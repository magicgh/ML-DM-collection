{
 "metadata": {
  "language_info": {
   "codemirror_mode": {
    "name": "ipython",
    "version": 3
   },
   "file_extension": ".py",
   "mimetype": "text/x-python",
   "name": "python",
   "nbconvert_exporter": "python",
   "pygments_lexer": "ipython3",
   "version": "3.7.10"
  },
  "orig_nbformat": 2,
  "metadata": {
   "interpreter": {
    "hash": "3ed8be5e2838f22f0d6840c8dc61a3161f0eeade2736fefd87ecf6fb49326dae"
   }
  }
 },
 "nbformat": 4,
 "nbformat_minor": 2,
 "cells": [
  {
   "source": [
    "# Code"
   ],
   "cell_type": "markdown",
   "metadata": {}
  },
  {
   "source": [
    "### Attribute Information\n",
    "     0. classes (A):                   edible=e, poisonous=p\n",
    "     1. cap-shape (B):                 bell=b,conical=c,convex=x,flat=f,\n",
    "                                       knobbed=k,sunken=s\n",
    "     2. cap-surface (C):               fibrous=f,grooves=g,scaly=y,smooth=s\n",
    "     3. cap-color (D):                 brown=n,buff=b,cinnamon=c,gray=g,green=r,\n",
    "                                       pink=p,purple=u,red=e,white=w,yellow=y\n",
    "     4. bruises? (E):                  bruises=t,no=f\n",
    "     5. odor (F):                      almond=a,anise=l,creosote=c,fishy=y,foul=f,\n",
    "                                       musty=m,none=n,pungent=p,spicy=s\n",
    "     6. gill-attachment (G):           attached=a,descending=d,free=f,notched=n\n",
    "     7. gill-spacing (H):              close=c,crowded=w,distant=d\n",
    "     8. gill-size (I):                 broad=b,narrow=n\n",
    "     9. gill-color (J):                black=k,brown=n,buff=b,chocolate=h,gray=g,\n",
    "                                       green=r,orange=o,pink=p,purple=u,red=e,\n",
    "                                       white=w,yellow=y\n",
    "    10. stalk-shape (K):               enlarging=e,tapering=t\n",
    "    11. stalk-root (L):                bulbous=b,club=c,cup=u,equal=e,\n",
    "                                       rhizomorphs=z,rooted=r,missing=?\n",
    "    12. stalk-surface-above-ring (M):  fibrous=f,scaly=y,silky=k,smooth=s\n",
    "    13. stalk-surface-below-ring (N):  fibrous=f,scaly=y,silky=k,smooth=s\n",
    "    14. stalk-color-above-ring (O):    brown=n,buff=b,cinnamon=c,gray=g,orange=o,\n",
    "                                       pink=p,red=e,white=w,yellow=y\n",
    "    15. stalk-color-below-ring (P):    brown=n,buff=b,cinnamon=c,gray=g,orange=o,\n",
    "                                       pink=p,red=e,white=w,yellow=y\n",
    "    16. veil-type (Q):                 partial=p,universal=u\n",
    "    17. veil-color (R):                brown=n,orange=o,white=w,yellow=y\n",
    "    18. ring-number (S):               none=n,one=o,two=t\n",
    "    19. ring-type (T):                 cobwebby=c,evanescent=e,flaring=f,large=l,\n",
    "                                       none=n,pendant=p,sheathing=s,zone=z\n",
    "    20. spore-print-color (U):         black=k,brown=n,buff=b,chocolate=h,green=r,\n",
    "                                       orange=o,purple=u,white=w,yellow=y\n",
    "    21. population (V):                abundant=a,clustered=c,numerous=n,\n",
    "                                       scattered=s,several=v,solitary=y\n",
    "    22. habitat (W):                   grasses=g,leaves=l,meadows=m,paths=p,\n",
    "                                       urban=u,waste=w,woods=d\n"
   ],
   "cell_type": "markdown",
   "metadata": {}
  },
  {
   "source": [
    "## Download Module"
   ],
   "cell_type": "markdown",
   "metadata": {}
  },
  {
   "source": [
    "import wget\n",
    "import os\n",
    "\n",
    "def download(target_name = 'mushroom.data'):\n",
    "    \"\"\"\n",
    "    Download the mushroom dataset from UCI\n",
    "    :param target_name: target path name\n",
    "    \"\"\"\n",
    "    if not os.path.exists(target_name):\n",
    "        url = 'https://archive.ics.uci.edu/ml/machine-learning-databases/mushroom/agaricus-lepiota.data'\n",
    "        wget.download(url, target_name)\n",
    "\n",
    "download()"
   ],
   "cell_type": "code",
   "metadata": {},
   "execution_count": null,
   "outputs": []
  },
  {
   "source": [
    "## Core Module: Apriori Implementation"
   ],
   "cell_type": "markdown",
   "metadata": {}
  },
  {
   "cell_type": "code",
   "execution_count": 146,
   "metadata": {
    "tags": []
   },
   "outputs": [],
   "source": [
    "class Apriori:\n",
    "\n",
    "    def __init__(self, dataset, minsup):\n",
    "        \"\"\"\n",
    "        Initialize the class Apriori, including data cleaning and preprocessing\n",
    "        :param dataset: The mushroom dataset in ndarray\n",
    "        :param minsup: Minimal support\n",
    "        \"\"\"\n",
    "        del_column = []\n",
    "        for (i,r) in enumerate(dataset):\n",
    "            if '?' in r:\n",
    "                del_column.append(i)\n",
    "            # Add column numbers (in capital letter) to distinguish the same text in different columns\n",
    "            for j in range(len(r)):\n",
    "                dataset[i][j] = '%c'%(65+j) + dataset[i][j]\n",
    "        \n",
    "        # Delete the line with the missing data\n",
    "        self.dataset = np.delete(dataset, del_column, 0)\n",
    "        self.minsup = minsup\n",
    "        print('Data after preprocessing and cleaning:\\n', self.dataset)\n",
    "        \n",
    "\n",
    "    def __prune(self, data_set, Ck):\n",
    "        \"\"\"\n",
    "        Pruning from the candidate itemset\n",
    "        :param data_set: The mushroom dataset composed of multiple sets\n",
    "        :param Ck: Candidate itemset of size k\n",
    "        :return: Frequent itemset of size k and its support list\n",
    "        \"\"\"\n",
    "        count = dict()\n",
    "        for column in data_set:\n",
    "            for item in Ck:\n",
    "                if item.issubset(column):\n",
    "                    if not item in count:\n",
    "                        count[item] = 1\n",
    "                    else:\n",
    "                        count[item] += 1\n",
    "        Fk = dict()\n",
    "        n = len(data_set)\n",
    "        for key in count:\n",
    "            if count[key]/n >= self.minsup:\n",
    "                Fk[key] = count[key]/n\n",
    "        return Fk\n",
    "\n",
    "    def __join(self, Fk):\n",
    "        \"\"\"\n",
    "        Self-joining from the frequent itemset\n",
    "        :param Fk: Frequent itemset of size k\n",
    "        :return: Candidate itemset of size k\n",
    "        \"\"\"\n",
    "        Ck = []\n",
    "        n, m = len(Fk), len(list(Fk[0]))\n",
    "        for i in range(n):\n",
    "            for j in range(i+1, n):\n",
    "                Fi, Fj = sorted(list(Fk[i])[:m-1]), sorted(list(Fk[j])[:m-1])\n",
    "                if Fi == Fj:\n",
    "                    Ck.append(Fk[i]|Fk[j])\n",
    "        return Ck\n",
    "\n",
    "    def main(self):\n",
    "        \"\"\"\n",
    "        Main function \n",
    "        :return: Frequent itemset and its support list at each level\n",
    "        \"\"\"\n",
    "        C1 = []\n",
    "        for item in self.dataset.flat:\n",
    "            if not [item] in C1:\n",
    "                C1.append([item]) \n",
    "        F = []\n",
    "        data_set = list(map(set, self.dataset))\n",
    "        C1 = list(map(frozenset, sorted(C1)))\n",
    "        F1 = self.__prune(data_set, C1)\n",
    "        F.append(F1)\n",
    "        k = 2\n",
    "        while(len(F[k-2])>0):\n",
    "            Ck = self.__join(list(map(frozenset,F[k-2].keys())))\n",
    "            F.append(self.__prune(data_set, Ck))\n",
    "            k += 1\n",
    "      \n",
    "        return F\n"
   ]
  },
  {
   "source": [
    "## Case 1 (minimal support = 0.5)"
   ],
   "cell_type": "markdown",
   "metadata": {}
  },
  {
   "source": [
    "### Read Data from the File"
   ],
   "cell_type": "markdown",
   "metadata": {}
  },
  {
   "cell_type": "code",
   "execution_count": 249,
   "metadata": {},
   "outputs": [
    {
     "output_type": "execute_result",
     "data": {
      "text/plain": [
       "array([['p', 'x', 's', ..., 'k', 's', 'u'],\n",
       "       ['e', 'x', 's', ..., 'n', 'n', 'g'],\n",
       "       ['e', 'b', 's', ..., 'n', 'n', 'm'],\n",
       "       ...,\n",
       "       ['e', 'f', 's', ..., 'b', 'c', 'l'],\n",
       "       ['p', 'k', 'y', ..., 'w', 'v', 'l'],\n",
       "       ['e', 'x', 's', ..., 'o', 'c', 'l']], dtype='<U2')"
      ]
     },
     "metadata": {},
     "execution_count": 249
    }
   ],
   "source": [
    "\n",
    "import numpy as np\n",
    "\n",
    "dataset_path = 'mushroom.data'\n",
    "dataset = np.genfromtxt(dataset_path, delimiter=\",\", dtype='<U2')  \n",
    "dataset"
   ]
  },
  {
   "source": [
    "### Modifying Data"
   ],
   "cell_type": "markdown",
   "metadata": {}
  },
  {
   "cell_type": "code",
   "execution_count": 250,
   "metadata": {},
   "outputs": [
    {
     "output_type": "stream",
     "name": "stdout",
     "text": [
      "Data after preprocessing and cleaning:\n [['Ap' 'Bx' 'Cs' ... 'Uk' 'Vs' 'Wu']\n ['Ae' 'Bx' 'Cs' ... 'Un' 'Vn' 'Wg']\n ['Ae' 'Bb' 'Cs' ... 'Un' 'Vn' 'Wm']\n ...\n ['Ae' 'Bx' 'Cy' ... 'Uw' 'Vy' 'Wp']\n ['Ap' 'Bx' 'Cy' ... 'Uw' 'Vc' 'Wd']\n ['Ap' 'Bf' 'Cy' ... 'Uw' 'Vc' 'Wd']]\n"
     ]
    }
   ],
   "source": [
    "apriori = Apriori(dataset, 0.5)"
   ]
  },
  {
   "source": [
    "### Result"
   ],
   "cell_type": "markdown",
   "metadata": {}
  },
  {
   "cell_type": "code",
   "execution_count": 251,
   "metadata": {
    "tags": [
     "outputPrepend"
    ]
   },
   "outputs": [
    {
     "output_type": "stream",
     "name": "stdout",
     "text": [
      "}) sup: 0.5088589652728561\nItemset: frozenset({'Rw', 'Gf', 'Ib', 'Qp'}) sup: 0.8720765414599575\nItemset: frozenset({'Gf', 'Ib', 'Qp', 'So'}) sup: 0.8476257973068746\nItemset: frozenset({'Tp', 'Gf', 'Ib', 'Qp'}) sup: 0.5031892274982283\nItemset: frozenset({'Gf', 'Ae', 'Ib', 'Qp'}) sup: 0.5754783841247342\nItemset: frozenset({'Rw', 'Gf', 'Ib', 'So'}) sup: 0.8476257973068746\nItemset: frozenset({'Tp', 'Rw', 'Gf', 'Ib'}) sup: 0.5031892274982283\nItemset: frozenset({'Rw', 'Gf', 'Ae', 'Ib'}) sup: 0.5754783841247342\nItemset: frozenset({'Gf', 'Ae', 'Ib', 'So'}) sup: 0.5669737774627923\nItemset: frozenset({'Qp', 'Rw', 'Ib', 'So'}) sup: 0.8476257973068746\nItemset: frozenset({'Qp', 'Rw', 'Tp', 'Ib'}) sup: 0.5031892274982283\nItemset: frozenset({'Qp', 'Rw', 'Ae', 'Ib'}) sup: 0.5754783841247342\nItemset: frozenset({'Qp', 'Ae', 'Ib', 'So'}) sup: 0.5669737774627923\nItemset: frozenset({'Rw', 'Ae', 'Ib', 'So'}) sup: 0.5669737774627923\nItemset: frozenset({'Kt', 'Rw', 'Gf', 'Qp'}) sup: 0.5102763997165131\nItemset: frozenset({'Kt', 'Gf', 'Qp', 'So'}) sup: 0.5102763997165131\nItemset: frozenset({'Kt', 'Gf', 'Rw', 'So'}) sup: 0.5102763997165131\nItemset: frozenset({'Rw', 'Kt', 'Qp', 'So'}) sup: 0.5102763997165131\nItemset: frozenset({'Rw', 'Gf', 'Qp', 'Lb'}) sup: 0.669029057406095\nItemset: frozenset({'So', 'Gf', 'Qp', 'Lb'}) sup: 0.6477675407512402\nItemset: frozenset({'So', 'Gf', 'Rw', 'Lb'}) sup: 0.6477675407512402\nItemset: frozenset({'So', 'Rw', 'Qp', 'Lb'}) sup: 0.6477675407512402\nItemset: frozenset({'Gf', 'Hc', 'Qp', 'Lb'}) sup: 0.6250885896527285\nItemset: frozenset({'Gf', 'Hc', 'Rw', 'Lb'}) sup: 0.6250885896527285\nItemset: frozenset({'Rw', 'Hc', 'Qp', 'Lb'}) sup: 0.6250885896527285\nItemset: frozenset({'Lb', 'Hc', 'Qp', 'So'}) sup: 0.6038270729978739\nItemset: frozenset({'Lb', 'Hc', 'Rw', 'So'}) sup: 0.6038270729978739\nItemset: frozenset({'Gf', 'Hc', 'Ib', 'Lb'}) sup: 0.6080793763288448\nItemset: frozenset({'Qp', 'Hc', 'Ib', 'Lb'}) sup: 0.6080793763288448\nItemset: frozenset({'Rw', 'Hc', 'Ib', 'Lb'}) sup: 0.6080793763288448\nItemset: frozenset({'Lb', 'Hc', 'Ib', 'So'}) sup: 0.58681785967399\nItemset: frozenset({'Gf', 'Ib', 'Qp', 'Lb'}) sup: 0.6080793763288448\nItemset: frozenset({'Rw', 'Gf', 'Ib', 'Lb'}) sup: 0.6080793763288448\nItemset: frozenset({'Qp', 'Rw', 'Ib', 'Lb'}) sup: 0.6080793763288448\nItemset: frozenset({'Qp', 'Lb', 'Ib', 'So'}) sup: 0.58681785967399\nItemset: frozenset({'Rw', 'Lb', 'Ib', 'So'}) sup: 0.58681785967399\nItemset: frozenset({'So', 'Gf', 'Hc', 'Lb'}) sup: 0.6038270729978739\nItemset: frozenset({'So', 'Gf', 'Ib', 'Lb'}) sup: 0.58681785967399\n\n\nsize = 5:\n\n\nItemset: frozenset({'Gf', 'So', 'Rw', 'Et', 'Qp'}) sup: 0.5457122608079377\nItemset: frozenset({'Gf', 'Rw', 'Tp', 'Et', 'Qp'}) sup: 0.5641389085754784\nItemset: frozenset({'Gf', 'So', 'Tp', 'Et', 'Qp'}) sup: 0.5457122608079377\nItemset: frozenset({'Gf', 'So', 'Tp', 'Et', 'Rw'}) sup: 0.5457122608079377\nItemset: frozenset({'Gf', 'Hc', 'Rw', 'Et', 'Qp'}) sup: 0.5457122608079377\nItemset: frozenset({'Gf', 'Hc', 'So', 'Et', 'Qp'}) sup: 0.5272856130403969\nItemset: frozenset({'Gf', 'Hc', 'So', 'Et', 'Rw'}) sup: 0.5272856130403969\nItemset: frozenset({'Gf', 'Hc', 'Tp', 'Et', 'Qp'}) sup: 0.5457122608079377\nItemset: frozenset({'Gf', 'Hc', 'Tp', 'Et', 'Rw'}) sup: 0.5457122608079377\nItemset: frozenset({'Gf', 'Hc', 'So', 'Tp', 'Et'}) sup: 0.5272856130403969\nItemset: frozenset({'Hc', 'So', 'Rw', 'Et', 'Qp'}) sup: 0.5272856130403969\nItemset: frozenset({'Hc', 'Rw', 'Tp', 'Et', 'Qp'}) sup: 0.5457122608079377\nItemset: frozenset({'Hc', 'So', 'Tp', 'Et', 'Qp'}) sup: 0.5272856130403969\nItemset: frozenset({'Hc', 'So', 'Tp', 'Et', 'Rw'}) sup: 0.5272856130403969\nItemset: frozenset({'Gf', 'Ms', 'Rw', 'Et', 'Qp'}) sup: 0.5386250885896527\nItemset: frozenset({'Gf', 'Ms', 'So', 'Et', 'Qp'}) sup: 0.520198440822112\nItemset: frozenset({'Gf', 'Ms', 'So', 'Et', 'Rw'}) sup: 0.520198440822112\nItemset: frozenset({'Gf', 'Ms', 'Hc', 'Tp', 'Et'}) sup: 0.520198440822112\nItemset: frozenset({'Gf', 'Ms', 'Tp', 'Et', 'Qp'}) sup: 0.5386250885896527\nItemset: frozenset({'Gf', 'Ms', 'Tp', 'Et', 'Rw'}) sup: 0.5386250885896527\nItemset: frozenset({'Gf', 'Ms', 'So', 'Tp', 'Et'}) sup: 0.520198440822112\nItemset: frozenset({'Gf', 'Ms', 'Hc', 'Et', 'Qp'}) sup: 0.520198440822112\nItemset: frozenset({'Gf', 'Ms', 'Hc', 'Et', 'Rw'}) sup: 0.520198440822112\nItemset: frozenset({'Gf', 'Ms', 'Hc', 'So', 'Et'}) sup: 0.5017717930545712\nItemset: frozenset({'Ms', 'Hc', 'Rw', 'Et', 'Qp'}) sup: 0.520198440822112\nItemset: frozenset({'Ms', 'Hc', 'So', 'Et', 'Qp'}) sup: 0.5017717930545712\nItemset: frozenset({'Ms', 'Hc', 'So', 'Et', 'Rw'}) sup: 0.5017717930545712\nItemset: frozenset({'Ms', 'Hc', 'Tp', 'Et', 'Qp'}) sup: 0.520198440822112\nItemset: frozenset({'Ms', 'Hc', 'Tp', 'Et', 'Rw'}) sup: 0.520198440822112\nItemset: frozenset({'Ms', 'Hc', 'So', 'Tp', 'Et'}) sup: 0.5017717930545712\nItemset: frozenset({'Ms', 'So', 'Rw', 'Et', 'Qp'}) sup: 0.520198440822112\nItemset: frozenset({'Ms', 'Rw', 'Tp', 'Et', 'Qp'}) sup: 0.5386250885896527\nItemset: frozenset({'Ms', 'So', 'Tp', 'Et', 'Qp'}) sup: 0.520198440822112\nItemset: frozenset({'Ms', 'So', 'Tp', 'Et', 'Rw'}) sup: 0.520198440822112\nItemset: frozenset({'Gf', 'Ns', 'Rw', 'Et', 'Qp'}) sup: 0.5046066619418852\nItemset: frozenset({'Gf', 'Ns', 'Tp', 'Et', 'Qp'}) sup: 0.5046066619418852\nItemset: frozenset({'Gf', 'Ns', 'Tp', 'Et', 'Rw'}) sup: 0.5046066619418852\nItemset: frozenset({'Ns', 'Rw', 'Tp', 'Et', 'Qp'}) sup: 0.5046066619418852\nItemset: frozenset({'So', 'Rw', 'Tp', 'Et', 'Qp'}) sup: 0.5457122608079377\nItemset: frozenset({'Gf', 'Hc', 'Ns', 'Rw', 'Qp'}) sup: 0.520198440822112\nItemset: frozenset({'Gf', 'Hc', 'So', 'Ns', 'Qp'}) sup: 0.5017717930545712\nItemset: frozenset({'Gf', 'Hc', 'So', 'Ns', 'Rw'}) sup: 0.5017717930545712\nItemset: frozenset({'Gf', 'Ms', 'Hc', 'Ns', 'Tp'}) sup: 0.5074415308291992\nItemset: frozenset({'Gf', 'Hc', 'Ns', 'Tp', 'Qp'}) sup: 0.520198440822112\nItemset: frozenset({'Gf', 'Hc', 'Ns', 'Tp', 'Rw'}) sup: 0.520198440822112\nItemset: frozenset({'Gf', 'Hc', 'So', 'Ns', 'Tp'}) sup: 0.5017717930545712\nItemset: frozenset({'Gf', 'Hc', 'So', 'Rw', 'Qp'}) sup: 0.7909284195605953\nItemset: frozenset({'Gf', 'Hc', 'Rw', 'Tp', 'Qp'}) sup: 0.5825655563430191\nItemset: frozenset({'Gf', 'Hc', 'So', 'Tp', 'Qp'}) sup: 0.5613040396881644\nItemset: frozenset({'Gf', 'Hc', 'So', 'Tp', 'Rw'}) sup: 0.5613040396881644\nItemset: frozenset({'Gf', 'Ms', 'Hc', 'Ns', 'Qp'}) sup: 0.5074415308291992\nItemset: frozenset({'Gf', 'Ms', 'Hc', 'Ns', 'Rw'}) sup: 0.5074415308291992\nItemset: frozenset({'Gf', 'Ms', 'Hc', 'Rw', 'Qp'}) sup: 0.5542168674698795\nItemset: frozenset({'Gf', 'Ms', 'Hc', 'So', 'Qp'}) sup: 0.5357902197023388\nItemset: frozenset({'Gf', 'Ms', 'Hc', 'So', 'Rw'}) sup: 0.5357902197023388\nItemset: frozenset({'Gf', 'Ms', 'Hc', 'Tp', 'Qp'}) sup: 0.5542168674698795\nItemset: frozenset({'Gf', 'Ms', 'Hc', 'Tp', 'Rw'}) sup: 0.5542168674698795\nItemset: frozenset({'Gf', 'Ms', 'Hc', 'So', 'Tp'}) sup: 0.5357902197023388\nItemset: frozenset({'Gf', 'Ms', 'Ns', 'Rw', 'Qp'}) sup: 0.5790219702338767\nItemset: frozenset({'Gf', 'Ms', 'So', 'Ns', 'Qp'}) sup: 0.5605953224663359\nItemset: frozenset({'Gf', 'Ms', 'So', 'Ns', 'Rw'}) sup: 0.5605953224663359\nItemset: frozenset({'Gf', 'Ms', 'Ns', 'Tp', 'Qp'}) sup: 0.5428773919206237\nItemset: frozenset({'Gf', 'Ms', 'Ns', 'Tp', 'Rw'}) sup: 0.5428773919206237\nItemset: frozenset({'Gf', 'Ms', 'So', 'Ns', 'Tp'}) sup: 0.5244507441530829\nItemset: frozenset({'Gf', 'Ms', 'So', 'Rw', 'Qp'}) sup: 0.6435152374202693\nItemset: frozenset({'Gf', 'Ms', 'Rw', 'Tp', 'Qp'}) sup: 0.589652728561304\nItemset: frozenset({'Gf', 'Ms', 'So', 'Tp', 'Qp'}) sup: 0.5712260807937632\nItemset: frozenset({'Gf', 'Ms', 'So', 'Tp', 'Rw'}) sup: 0.5712260807937632\nItemset: frozenset({'Gf', 'So', 'Ns', 'Rw', 'Qp'}) sup: 0.6094968107725017\nItemset: frozenset({'Gf', 'Ns', 'Rw', 'Tp', 'Qp'}) sup: 0.5556343019135365\nItemset: frozenset({'Gf', 'So', 'Ns', 'Tp', 'Qp'}) sup: 0.5372076541459957\nItemset: frozenset({'Gf', 'So', 'Ns', 'Tp', 'Rw'}) sup: 0.5372076541459957\nItemset: frozenset({'Pw', 'Gf', 'So', 'Rw', 'Qp'}) sup: 0.5287030474840538\nItemset: frozenset({'Gf', 'Ow', 'So', 'Rw', 'Qp'}) sup: 0.5372076541459957\nItemset: frozenset({'Gf', 'So', 'Rw', 'Tp', 'Qp'}) sup: 0.5967399007795889\nItemset: frozenset({'Ms', 'Hc', 'Ns', 'Rw', 'Qp'}) sup: 0.5074415308291992\nItemset: frozenset({'Ms', 'Hc', 'Ns', 'Tp', 'Qp'}) sup: 0.5074415308291992\nItemset: frozenset({'Ms', 'Hc', 'Ns', 'Tp', 'Rw'}) sup: 0.5074415308291992\nItemset: frozenset({'Ms', 'Hc', 'So', 'Rw', 'Qp'}) sup: 0.5357902197023388\nItemset: frozenset({'Ms', 'Hc', 'Rw', 'Tp', 'Qp'}) sup: 0.5542168674698795\nItemset: frozenset({'Ms', 'Hc', 'So', 'Tp', 'Qp'}) sup: 0.5357902197023388\nItemset: frozenset({'Ms', 'Hc', 'So', 'Tp', 'Rw'}) sup: 0.5357902197023388\nItemset: frozenset({'Hc', 'So', 'Ns', 'Rw', 'Qp'}) sup: 0.5017717930545712\nItemset: frozenset({'Hc', 'Ns', 'Rw', 'Tp', 'Qp'}) sup: 0.520198440822112\nItemset: frozenset({'Hc', 'So', 'Ns', 'Tp', 'Qp'}) sup: 0.5017717930545712\nItemset: frozenset({'Hc', 'So', 'Ns', 'Tp', 'Rw'}) sup: 0.5017717930545712\nItemset: frozenset({'Hc', 'So', 'Rw', 'Tp', 'Qp'}) sup: 0.5613040396881644\nItemset: frozenset({'Ms', 'So', 'Ns', 'Rw', 'Qp'}) sup: 0.5605953224663359\nItemset: frozenset({'Ms', 'Ns', 'Rw', 'Tp', 'Qp'}) sup: 0.5428773919206237\nItemset: frozenset({'Ms', 'So', 'Ns', 'Tp', 'Qp'}) sup: 0.5244507441530829\nItemset: frozenset({'Ms', 'So', 'Ns', 'Tp', 'Rw'}) sup: 0.5244507441530829\nItemset: frozenset({'Ms', 'So', 'Rw', 'Tp', 'Qp'}) sup: 0.5712260807937632\nItemset: frozenset({'So', 'Ns', 'Rw', 'Tp', 'Qp'}) sup: 0.5372076541459957\nItemset: frozenset({'Gf', 'Ib', 'Rw', 'Et', 'Qp'}) sup: 0.5003543586109143\nItemset: frozenset({'Gf', 'Ib', 'Tp', 'Et', 'Qp'}) sup: 0.5003543586109143\nItemset: frozenset({'Gf', 'Ib', 'Tp', 'Et', 'Rw'}) sup: 0.5003543586109143\nItemset: frozenset({'Gf', 'Hc', 'Ib', 'Et', 'Qp'}) sup: 0.5003543586109143\nItemset: frozenset({'Gf', 'Hc', 'Ib', 'Et', 'Rw'}) sup: 0.5003543586109143\nItemset: frozenset({'Gf', 'Hc', 'Tp', 'Et', 'Ib'}) sup: 0.5003543586109143\nItemset: frozenset({'Hc', 'Ib', 'Tp', 'Et', 'Qp'}) sup: 0.5003543586109143\nItemset: frozenset({'Hc', 'Ib', 'Tp', 'Et', 'Rw'}) sup: 0.5003543586109143\nItemset: frozenset({'Ib', 'Rw', 'Tp', 'Et', 'Qp'}) sup: 0.5003543586109143\nItemset: frozenset({'Gf', 'Hc', 'Ib', 'Rw', 'Qp'}) sup: 0.7360028348688873\nItemset: frozenset({'Gf', 'Hc', 'Ib', 'So', 'Qp'}) sup: 0.7115520907158044\nItemset: frozenset({'Gf', 'Hc', 'Ib', 'Tp', 'Qp'}) sup: 0.5031892274982283\nItemset: frozenset({'Gf', 'Hc', 'Ib', 'So', 'Rw'}) sup: 0.7115520907158044\nItemset: frozenset({'Gf', 'Hc', 'Ib', 'Tp', 'Rw'}) sup: 0.5031892274982283\nItemset: frozenset({'Gf', 'Ms', 'Ib', 'Rw', 'Qp'}) sup: 0.5428773919206237\nItemset: frozenset({'Gf', 'Ms', 'Ib', 'So', 'Qp'}) sup: 0.5244507441530829\nItemset: frozenset({'Gf', 'Ms', 'Ib', 'So', 'Rw'}) sup: 0.5244507441530829\nItemset: frozenset({'Gf', 'Ib', 'Ns', 'Rw', 'Qp'}) sup: 0.5088589652728561\nItemset: frozenset({'Gf', 'Ib', 'Rw', 'Tp', 'Qp'}) sup: 0.5031892274982283\nItemset: frozenset({'Hc', 'Ib', 'So', 'Rw', 'Qp'}) sup: 0.7115520907158044\nItemset: frozenset({'Hc', 'Ib', 'Rw', 'Tp', 'Qp'}) sup: 0.5031892274982283\nItemset: frozenset({'Ms', 'Ib', 'So', 'Rw', 'Qp'}) sup: 0.5244507441530829\nItemset: frozenset({'Hc', 'Ib', 'Rw', 'Et', 'Qp'}) sup: 0.5003543586109143\nItemset: frozenset({'Ae', 'Ms', 'Gf', 'Rw', 'Qp'}) sup: 0.5428773919206237\nItemset: frozenset({'Ae', 'Ms', 'Gf', 'So', 'Qp'}) sup: 0.5372076541459957\nItemset: frozenset({'Ae', 'Ms', 'Gf', 'Ib', 'Qp'}) sup: 0.5046066619418852\nItemset: frozenset({'Ae', 'Ms', 'Gf', 'So', 'Rw'}) sup: 0.5372076541459957\nItemset: frozenset({'Ae', 'Ms', 'Gf', 'Ib', 'Rw'}) sup: 0.5046066619418852\nItemset: frozenset({'Ae', 'Gf', 'Ns', 'Rw', 'Qp'}) sup: 0.5088589652728561\nItemset: frozenset({'Ae', 'Gf', 'So', 'Ns', 'Qp'}) sup: 0.5031892274982283\nItemset: frozenset({'Ae', 'Gf', 'So', 'Ns', 'Rw'}) sup: 0.5031892274982283\nItemset: frozenset({'Ae', 'Gf', 'So', 'Rw', 'Qp'}) sup: 0.6094968107725017\nItemset: frozenset({'Ae', 'Gf', 'Ib', 'Rw', 'Qp'}) sup: 0.5754783841247342\nItemset: frozenset({'Ae', 'Gf', 'Ib', 'So', 'Rw'}) sup: 0.5669737774627923\nItemset: frozenset({'Ae', 'Ms', 'So', 'Rw', 'Qp'}) sup: 0.5372076541459957\nItemset: frozenset({'Ae', 'Ms', 'Ib', 'Rw', 'Qp'}) sup: 0.5046066619418852\nItemset: frozenset({'Ae', 'So', 'Ns', 'Rw', 'Qp'}) sup: 0.5031892274982283\nItemset: frozenset({'Ae', 'Ib', 'So', 'Rw', 'Qp'}) sup: 0.5669737774627923\nItemset: frozenset({'Gf', 'Ib', 'So', 'Rw', 'Qp'}) sup: 0.8476257973068746\nItemset: frozenset({'Ae', 'Gf', 'Ib', 'So', 'Qp'}) sup: 0.5669737774627923\nItemset: frozenset({'Gf', 'Kt', 'So', 'Rw', 'Qp'}) sup: 0.5102763997165131\nItemset: frozenset({'Gf', 'So', 'Lb', 'Rw', 'Qp'}) sup: 0.6477675407512402\nItemset: frozenset({'Gf', 'Hc', 'Lb', 'Rw', 'Qp'}) sup: 0.6250885896527285\nItemset: frozenset({'Gf', 'Hc', 'So', 'Lb', 'Qp'}) sup: 0.6038270729978739\nItemset: frozenset({'Gf', 'Hc', 'So', 'Lb', 'Rw'}) sup: 0.6038270729978739\nItemset: frozenset({'Hc', 'So', 'Lb', 'Rw', 'Qp'}) sup: 0.6038270729978739\nItemset: frozenset({'Qp', 'Gf', 'Hc', 'Lb', 'Ib'}) sup: 0.6080793763288448\nItemset: frozenset({'Gf', 'Hc', 'Lb', 'Rw', 'Ib'}) sup: 0.6080793763288448\nItemset: frozenset({'Gf', 'Hc', 'So', 'Lb', 'Ib'}) sup: 0.58681785967399\nItemset: frozenset({'Qp', 'Hc', 'Lb', 'Rw', 'Ib'}) sup: 0.6080793763288448\nItemset: frozenset({'Qp', 'Hc', 'So', 'Lb', 'Ib'}) sup: 0.58681785967399\nItemset: frozenset({'Hc', 'So', 'Lb', 'Rw', 'Ib'}) sup: 0.58681785967399\nItemset: frozenset({'Gf', 'Ib', 'Lb', 'Rw', 'Qp'}) sup: 0.6080793763288448\nItemset: frozenset({'Gf', 'Ib', 'So', 'Lb', 'Qp'}) sup: 0.58681785967399\nItemset: frozenset({'Gf', 'So', 'Lb', 'Rw', 'Ib'}) sup: 0.58681785967399\nItemset: frozenset({'Qp', 'So', 'Lb', 'Rw', 'Ib'}) sup: 0.58681785967399\n\n\nsize = 6:\n\n\nItemset: frozenset({'Gf', 'So', 'Rw', 'Tp', 'Et', 'Qp'}) sup: 0.5457122608079377\nItemset: frozenset({'Gf', 'Hc', 'So', 'Rw', 'Et', 'Qp'}) sup: 0.5272856130403969\nItemset: frozenset({'Gf', 'Hc', 'Rw', 'Tp', 'Et', 'Qp'}) sup: 0.5457122608079377\nItemset: frozenset({'Gf', 'Hc', 'So', 'Tp', 'Et', 'Qp'}) sup: 0.5272856130403969\nItemset: frozenset({'Gf', 'Hc', 'So', 'Tp', 'Et', 'Rw'}) sup: 0.5272856130403969\nItemset: frozenset({'Hc', 'So', 'Rw', 'Tp', 'Et', 'Qp'}) sup: 0.5272856130403969\nItemset: frozenset({'Gf', 'Ms', 'So', 'Rw', 'Et', 'Qp'}) sup: 0.520198440822112\nItemset: frozenset({'Gf', 'Ms', 'Hc', 'Tp', 'Et', 'Qp'}) sup: 0.520198440822112\nItemset: frozenset({'Gf', 'Ms', 'Hc', 'Tp', 'Et', 'Rw'}) sup: 0.520198440822112\nItemset: frozenset({'Gf', 'Ms', 'Rw', 'Tp', 'Et', 'Qp'}) sup: 0.5386250885896527\nItemset: frozenset({'Gf', 'Ms', 'So', 'Tp', 'Et', 'Qp'}) sup: 0.520198440822112\nItemset: frozenset({'Gf', 'Ms', 'So', 'Tp', 'Et', 'Rw'}) sup: 0.520198440822112\nItemset: frozenset({'Gf', 'Ms', 'Hc', 'Rw', 'Et', 'Qp'}) sup: 0.520198440822112\nItemset: frozenset({'Gf', 'Ms', 'Hc', 'So', 'Et', 'Qp'}) sup: 0.5017717930545712\nItemset: frozenset({'Gf', 'Ms', 'Hc', 'So', 'Et', 'Rw'}) sup: 0.5017717930545712\nItemset: frozenset({'Gf', 'Ms', 'Hc', 'So', 'Tp', 'Et'}) sup: 0.5017717930545712\nItemset: frozenset({'Ms', 'Hc', 'So', 'Rw', 'Et', 'Qp'}) sup: 0.5017717930545712\nItemset: frozenset({'Ms', 'Hc', 'Rw', 'Tp', 'Et', 'Qp'}) sup: 0.520198440822112\nItemset: frozenset({'Ms', 'Hc', 'So', 'Tp', 'Et', 'Qp'}) sup: 0.5017717930545712\nItemset: frozenset({'Ms', 'Hc', 'So', 'Tp', 'Et', 'Rw'}) sup: 0.5017717930545712\nItemset: frozenset({'Ms', 'So', 'Rw', 'Tp', 'Et', 'Qp'}) sup: 0.520198440822112\nItemset: frozenset({'Gf', 'Ns', 'Rw', 'Tp', 'Et', 'Qp'}) sup: 0.5046066619418852\nItemset: frozenset({'Gf', 'Hc', 'So', 'Ns', 'Rw', 'Qp'}) sup: 0.5017717930545712\nItemset: frozenset({'Gf', 'Hc', 'So', 'Ns', 'Tp', 'Qp'}) sup: 0.5017717930545712\nItemset: frozenset({'Gf', 'Hc', 'So', 'Ns', 'Tp', 'Rw'}) sup: 0.5017717930545712\nItemset: frozenset({'Gf', 'Ms', 'Hc', 'Ns', 'Tp', 'Qp'}) sup: 0.5074415308291992\nItemset: frozenset({'Gf', 'Ms', 'Hc', 'Ns', 'Tp', 'Rw'}) sup: 0.5074415308291992\nItemset: frozenset({'Gf', 'Hc', 'Ns', 'Rw', 'Tp', 'Qp'}) sup: 0.520198440822112\nItemset: frozenset({'Gf', 'Hc', 'So', 'Rw', 'Tp', 'Qp'}) sup: 0.5613040396881644\nItemset: frozenset({'Gf', 'Ms', 'Hc', 'Ns', 'Rw', 'Qp'}) sup: 0.5074415308291992\nItemset: frozenset({'Gf', 'Ms', 'Hc', 'So', 'Rw', 'Qp'}) sup: 0.5357902197023388\nItemset: frozenset({'Gf', 'Ms', 'Hc', 'So', 'Tp', 'Qp'}) sup: 0.5357902197023388\nItemset: frozenset({'Gf', 'Ms', 'Hc', 'So', 'Tp', 'Rw'}) sup: 0.5357902197023388\nItemset: frozenset({'Gf', 'Ms', 'Hc', 'Rw', 'Tp', 'Qp'}) sup: 0.5542168674698795\nItemset: frozenset({'Gf', 'Ms', 'So', 'Ns', 'Rw', 'Qp'}) sup: 0.5605953224663359\nItemset: frozenset({'Gf', 'Ms', 'So', 'Ns', 'Tp', 'Qp'}) sup: 0.5244507441530829\nItemset: frozenset({'Gf', 'Ms', 'So', 'Ns', 'Tp', 'Rw'}) sup: 0.5244507441530829\nItemset: frozenset({'Gf', 'Ms', 'Ns', 'Rw', 'Tp', 'Qp'}) sup: 0.5428773919206237\nItemset: frozenset({'Gf', 'Ms', 'So', 'Rw', 'Tp', 'Qp'}) sup: 0.5712260807937632\nItemset: frozenset({'Gf', 'So', 'Ns', 'Rw', 'Tp', 'Qp'}) sup: 0.5372076541459957\nItemset: frozenset({'Ms', 'Hc', 'Ns', 'Rw', 'Tp', 'Qp'}) sup: 0.5074415308291992\nItemset: frozenset({'Ms', 'Hc', 'So', 'Rw', 'Tp', 'Qp'}) sup: 0.5357902197023388\nItemset: frozenset({'Hc', 'So', 'Ns', 'Rw', 'Tp', 'Qp'}) sup: 0.5017717930545712\nItemset: frozenset({'Ms', 'So', 'Ns', 'Rw', 'Tp', 'Qp'}) sup: 0.5244507441530829\nItemset: frozenset({'Gf', 'Hc', 'Ib', 'Tp', 'Et', 'Qp'}) sup: 0.5003543586109143\nItemset: frozenset({'Gf', 'Hc', 'Ib', 'Tp', 'Et', 'Rw'}) sup: 0.5003543586109143\nItemset: frozenset({'Gf', 'Ib', 'Rw', 'Tp', 'Et', 'Qp'}) sup: 0.5003543586109143\nItemset: frozenset({'Gf', 'Hc', 'Ib', 'Rw', 'Et', 'Qp'}) sup: 0.5003543586109143\nItemset: frozenset({'Hc', 'Ib', 'Rw', 'Tp', 'Et', 'Qp'}) sup: 0.5003543586109143\nItemset: frozenset({'Gf', 'Hc', 'Ib', 'So', 'Rw', 'Qp'}) sup: 0.7115520907158044\nItemset: frozenset({'Gf', 'Hc', 'Ib', 'Rw', 'Tp', 'Qp'}) sup: 0.5031892274982283\nItemset: frozenset({'Gf', 'Ms', 'Ib', 'So', 'Rw', 'Qp'}) sup: 0.5244507441530829\nItemset: frozenset({'Gf', 'Ae', 'Ms', 'So', 'Rw', 'Qp'}) sup: 0.5372076541459957\nItemset: frozenset({'Gf', 'Ae', 'Ms', 'Ib', 'Rw', 'Qp'}) sup: 0.5046066619418852\nItemset: frozenset({'Gf', 'Ae', 'So', 'Ns', 'Rw', 'Qp'}) sup: 0.5031892274982283\nItemset: frozenset({'Qp', 'Gf', 'Ae', 'Ib', 'So', 'Rw'}) sup: 0.5669737774627923\nItemset: frozenset({'Gf', 'Ib', 'Lb', 'So', 'Rw', 'Qp'}) sup: 0.58681785967399\nItemset: frozenset({'Gf', 'Hc', 'Ib', 'Lb', 'Rw', 'Qp'}) sup: 0.6080793763288448\nItemset: frozenset({'Gf', 'Hc', 'Lb', 'So', 'Rw', 'Qp'}) sup: 0.6038270729978739\nItemset: frozenset({'Gf', 'Hc', 'Ib', 'Lb', 'So', 'Qp'}) sup: 0.58681785967399\nItemset: frozenset({'Gf', 'Hc', 'Ib', 'Lb', 'So', 'Rw'}) sup: 0.58681785967399\nItemset: frozenset({'Hc', 'Ib', 'Lb', 'So', 'Rw', 'Qp'}) sup: 0.58681785967399\n\n\nsize = 7:\n\n\nItemset: frozenset({'Gf', 'Hc', 'So', 'Rw', 'Tp', 'Et', 'Qp'}) sup: 0.5272856130403969\nItemset: frozenset({'Gf', 'Ms', 'Hc', 'Rw', 'Tp', 'Et', 'Qp'}) sup: 0.520198440822112\nItemset: frozenset({'Gf', 'Ms', 'So', 'Rw', 'Tp', 'Et', 'Qp'}) sup: 0.520198440822112\nItemset: frozenset({'Gf', 'Ms', 'Hc', 'So', 'Rw', 'Et', 'Qp'}) sup: 0.5017717930545712\nItemset: frozenset({'Gf', 'Ms', 'Hc', 'So', 'Tp', 'Et', 'Qp'}) sup: 0.5017717930545712\nItemset: frozenset({'Gf', 'Ms', 'Hc', 'So', 'Tp', 'Et', 'Rw'}) sup: 0.5017717930545712\nItemset: frozenset({'Ms', 'Hc', 'So', 'Rw', 'Tp', 'Et', 'Qp'}) sup: 0.5017717930545712\nItemset: frozenset({'Gf', 'Hc', 'So', 'Ns', 'Rw', 'Tp', 'Qp'}) sup: 0.5017717930545712\nItemset: frozenset({'Gf', 'Ms', 'Hc', 'Ns', 'Rw', 'Tp', 'Qp'}) sup: 0.5074415308291992\nItemset: frozenset({'Gf', 'Ms', 'Hc', 'So', 'Rw', 'Tp', 'Qp'}) sup: 0.5357902197023388\nItemset: frozenset({'Gf', 'Ms', 'So', 'Ns', 'Rw', 'Tp', 'Qp'}) sup: 0.5244507441530829\nItemset: frozenset({'Gf', 'Hc', 'Ib', 'Rw', 'Tp', 'Et', 'Qp'}) sup: 0.5003543586109143\nItemset: frozenset({'Gf', 'Hc', 'Ib', 'So', 'Lb', 'Rw', 'Qp'}) sup: 0.58681785967399\n\n\nsize = 8:\n\n\nItemset: frozenset({'Gf', 'Ms', 'Hc', 'So', 'Rw', 'Tp', 'Et', 'Qp'}) sup: 0.5017717930545712\n\n\n"
     ]
    }
   ],
   "source": [
    "F5 = apriori.main()\n",
    "\n",
    "for i in range(len(F5)):\n",
    "    if len(F5[i]) <=0 :\n",
    "        break\n",
    "    print(f'size = {i+1}:\\n\\n')\n",
    "    for x in F5[i].items():\n",
    "        print(f'Itemset: {x[0]} sup: {x[1]}')\n",
    "    print('\\n')"
   ]
  },
  {
   "source": [
    "## Case 2 (minimal support = 0.7)"
   ],
   "cell_type": "markdown",
   "metadata": {}
  },
  {
   "source": [
    "### Read Data from the File"
   ],
   "cell_type": "markdown",
   "metadata": {}
  },
  {
   "cell_type": "code",
   "execution_count": 165,
   "metadata": {},
   "outputs": [
    {
     "output_type": "execute_result",
     "data": {
      "text/plain": [
       "array([['p', 'x', 's', ..., 'k', 's', 'u'],\n",
       "       ['e', 'x', 's', ..., 'n', 'n', 'g'],\n",
       "       ['e', 'b', 's', ..., 'n', 'n', 'm'],\n",
       "       ...,\n",
       "       ['e', 'f', 's', ..., 'b', 'c', 'l'],\n",
       "       ['p', 'k', 'y', ..., 'w', 'v', 'l'],\n",
       "       ['e', 'x', 's', ..., 'o', 'c', 'l']], dtype='<U2')"
      ]
     },
     "metadata": {},
     "execution_count": 165
    }
   ],
   "source": [
    "\n",
    "import numpy as np\n",
    "\n",
    "dataset_path = 'mushroom.data'\n",
    "dataset = np.genfromtxt(dataset_path, delimiter=\",\", dtype='<U2')  \n",
    "dataset"
   ]
  },
  {
   "source": [
    "### Modifying Data"
   ],
   "cell_type": "markdown",
   "metadata": {}
  },
  {
   "source": [
    "apriori = Apriori(dataset, 0.7)"
   ],
   "cell_type": "code",
   "metadata": {},
   "execution_count": 166,
   "outputs": [
    {
     "output_type": "stream",
     "name": "stdout",
     "text": [
      "Data after preprocessing and cleaning:\n [['Ap' 'Bx' 'Cs' ... 'Uk' 'Vs' 'Wu']\n ['Ae' 'Bx' 'Cs' ... 'Un' 'Vn' 'Wg']\n ['Ae' 'Bb' 'Cs' ... 'Un' 'Vn' 'Wm']\n ...\n ['Ae' 'Bx' 'Cy' ... 'Uw' 'Vy' 'Wp']\n ['Ap' 'Bx' 'Cy' ... 'Uw' 'Vc' 'Wd']\n ['Ap' 'Bf' 'Cy' ... 'Uw' 'Vc' 'Wd']]\n"
     ]
    }
   ]
  },
  {
   "source": [
    "### Result"
   ],
   "cell_type": "markdown",
   "metadata": {}
  },
  {
   "cell_type": "code",
   "execution_count": 167,
   "metadata": {},
   "outputs": [
    {
     "output_type": "stream",
     "name": "stdout",
     "text": [
      "size = 1:\n\n\nItemset: frozenset({'Gf'}) sup: 0.9968107725017717\nItemset: frozenset({'Hc'}) sup: 0.8185683912119065\nItemset: frozenset({'Qp'}) sup: 1.0\nItemset: frozenset({'Rw'}) sup: 0.9985825655563431\nItemset: frozenset({'So'}) sup: 0.9723600283486888\nItemset: frozenset({'Ib'}) sup: 0.8752657689581856\n\n\nsize = 2:\n\n\nItemset: frozenset({'Hc', 'Gf'}) sup: 0.8153791637136782\nItemset: frozenset({'Qp', 'Gf'}) sup: 0.9968107725017717\nItemset: frozenset({'Rw', 'Gf'}) sup: 0.9953933380581148\nItemset: frozenset({'So', 'Gf'}) sup: 0.9723600283486888\nItemset: frozenset({'Hc', 'Qp'}) sup: 0.8185683912119065\nItemset: frozenset({'Hc', 'Rw'}) sup: 0.8185683912119065\nItemset: frozenset({'Hc', 'So'}) sup: 0.7909284195605953\nItemset: frozenset({'Qp', 'Rw'}) sup: 0.9985825655563431\nItemset: frozenset({'Qp', 'So'}) sup: 0.9723600283486888\nItemset: frozenset({'Rw', 'So'}) sup: 0.9709425939050319\nItemset: frozenset({'Ib', 'Gf'}) sup: 0.8720765414599575\nItemset: frozenset({'Hc', 'Ib'}) sup: 0.7391920623671155\nItemset: frozenset({'Ib', 'Qp'}) sup: 0.8752657689581856\nItemset: frozenset({'Ib', 'Rw'}) sup: 0.8752657689581856\nItemset: frozenset({'Ib', 'So'}) sup: 0.8476257973068746\n\n\nsize = 3:\n\n\nItemset: frozenset({'Hc', 'Qp', 'Gf'}) sup: 0.8153791637136782\nItemset: frozenset({'Hc', 'Rw', 'Gf'}) sup: 0.8153791637136782\nItemset: frozenset({'Hc', 'So', 'Gf'}) sup: 0.7909284195605953\nItemset: frozenset({'Qp', 'Rw', 'Gf'}) sup: 0.9953933380581148\nItemset: frozenset({'Qp', 'So', 'Gf'}) sup: 0.9723600283486888\nItemset: frozenset({'Rw', 'So', 'Gf'}) sup: 0.9709425939050319\nItemset: frozenset({'Hc', 'Qp', 'Rw'}) sup: 0.8185683912119065\nItemset: frozenset({'Hc', 'Qp', 'So'}) sup: 0.7909284195605953\nItemset: frozenset({'Hc', 'Rw', 'So'}) sup: 0.7909284195605953\nItemset: frozenset({'So', 'Qp', 'Rw'}) sup: 0.9709425939050319\nItemset: frozenset({'Hc', 'Ib', 'Gf'}) sup: 0.7360028348688873\nItemset: frozenset({'Hc', 'Ib', 'Qp'}) sup: 0.7391920623671155\nItemset: frozenset({'Hc', 'Ib', 'Rw'}) sup: 0.7391920623671155\nItemset: frozenset({'Hc', 'Ib', 'So'}) sup: 0.7115520907158044\nItemset: frozenset({'Qp', 'Ib', 'Gf'}) sup: 0.8720765414599575\nItemset: frozenset({'Ib', 'Rw', 'Gf'}) sup: 0.8720765414599575\nItemset: frozenset({'Ib', 'So', 'Gf'}) sup: 0.8476257973068746\nItemset: frozenset({'Ib', 'Qp', 'Rw'}) sup: 0.8752657689581856\nItemset: frozenset({'Ib', 'Qp', 'So'}) sup: 0.8476257973068746\nItemset: frozenset({'Ib', 'Rw', 'So'}) sup: 0.8476257973068746\n\n\nsize = 4:\n\n\nItemset: frozenset({'Rw', 'Gf', 'Hc', 'Qp'}) sup: 0.8153791637136782\nItemset: frozenset({'Gf', 'Hc', 'Qp', 'So'}) sup: 0.7909284195605953\nItemset: frozenset({'Gf', 'Hc', 'Rw', 'So'}) sup: 0.7909284195605953\nItemset: frozenset({'Rw', 'Gf', 'Qp', 'So'}) sup: 0.9709425939050319\nItemset: frozenset({'Rw', 'Hc', 'Qp', 'So'}) sup: 0.7909284195605953\nItemset: frozenset({'Qp', 'Gf', 'Hc', 'Ib'}) sup: 0.7360028348688873\nItemset: frozenset({'Rw', 'Gf', 'Hc', 'Ib'}) sup: 0.7360028348688873\nItemset: frozenset({'Gf', 'Hc', 'Ib', 'So'}) sup: 0.7115520907158044\nItemset: frozenset({'Qp', 'Rw', 'Hc', 'Ib'}) sup: 0.7391920623671155\nItemset: frozenset({'Qp', 'Hc', 'Ib', 'So'}) sup: 0.7115520907158044\nItemset: frozenset({'Rw', 'Hc', 'Ib', 'So'}) sup: 0.7115520907158044\nItemset: frozenset({'Rw', 'Gf', 'Ib', 'Qp'}) sup: 0.8720765414599575\nItemset: frozenset({'Gf', 'Ib', 'Qp', 'So'}) sup: 0.8476257973068746\nItemset: frozenset({'Rw', 'Gf', 'Ib', 'So'}) sup: 0.8476257973068746\nItemset: frozenset({'Qp', 'Rw', 'Ib', 'So'}) sup: 0.8476257973068746\n\n\nsize = 5:\n\n\nItemset: frozenset({'Gf', 'Hc', 'So', 'Rw', 'Qp'}) sup: 0.7909284195605953\nItemset: frozenset({'Gf', 'Hc', 'Ib', 'Rw', 'Qp'}) sup: 0.7360028348688873\nItemset: frozenset({'Gf', 'Hc', 'Ib', 'So', 'Qp'}) sup: 0.7115520907158044\nItemset: frozenset({'Gf', 'Hc', 'Ib', 'So', 'Rw'}) sup: 0.7115520907158044\nItemset: frozenset({'Hc', 'Ib', 'So', 'Rw', 'Qp'}) sup: 0.7115520907158044\nItemset: frozenset({'Gf', 'Ib', 'So', 'Rw', 'Qp'}) sup: 0.8476257973068746\n\n\nsize = 6:\n\n\nItemset: frozenset({'Gf', 'Hc', 'Ib', 'So', 'Rw', 'Qp'}) sup: 0.7115520907158044\n\n\n"
     ]
    }
   ],
   "source": [
    "F7 = apriori.main()\n",
    "\n",
    "for i in range(len(F7)):\n",
    "    if len(F7[i]) <=0 :\n",
    "        break\n",
    "    print(f'size = {i+1}:\\n\\n')\n",
    "    for x in F7[i].items():\n",
    "        print(f'Itemset: {x[0]} sup: {x[1]}')\n",
    "    print('\\n')"
   ]
  },
  {
   "source": [
    "## Case 3 (minimal support = 0.9)"
   ],
   "cell_type": "markdown",
   "metadata": {}
  },
  {
   "source": [
    "### Read Data from the File"
   ],
   "cell_type": "markdown",
   "metadata": {}
  },
  {
   "cell_type": "code",
   "execution_count": 168,
   "metadata": {},
   "outputs": [
    {
     "output_type": "execute_result",
     "data": {
      "text/plain": [
       "array([['p', 'x', 's', ..., 'k', 's', 'u'],\n",
       "       ['e', 'x', 's', ..., 'n', 'n', 'g'],\n",
       "       ['e', 'b', 's', ..., 'n', 'n', 'm'],\n",
       "       ...,\n",
       "       ['e', 'f', 's', ..., 'b', 'c', 'l'],\n",
       "       ['p', 'k', 'y', ..., 'w', 'v', 'l'],\n",
       "       ['e', 'x', 's', ..., 'o', 'c', 'l']], dtype='<U2')"
      ]
     },
     "metadata": {},
     "execution_count": 168
    }
   ],
   "source": [
    "\n",
    "import numpy as np\n",
    "\n",
    "dataset_path = 'mushroom.data'\n",
    "dataset = np.genfromtxt(dataset_path, delimiter=\",\", dtype='<U2')  \n",
    "dataset"
   ]
  },
  {
   "source": [
    "### Modifying Data"
   ],
   "cell_type": "markdown",
   "metadata": {}
  },
  {
   "cell_type": "code",
   "execution_count": 169,
   "metadata": {},
   "outputs": [
    {
     "output_type": "stream",
     "name": "stdout",
     "text": [
      "Data after preprocessing and cleaning:\n [['Ap' 'Bx' 'Cs' ... 'Uk' 'Vs' 'Wu']\n ['Ae' 'Bx' 'Cs' ... 'Un' 'Vn' 'Wg']\n ['Ae' 'Bb' 'Cs' ... 'Un' 'Vn' 'Wm']\n ...\n ['Ae' 'Bx' 'Cy' ... 'Uw' 'Vy' 'Wp']\n ['Ap' 'Bx' 'Cy' ... 'Uw' 'Vc' 'Wd']\n ['Ap' 'Bf' 'Cy' ... 'Uw' 'Vc' 'Wd']]\n"
     ]
    }
   ],
   "source": [
    "apriori = Apriori(dataset, 0.9)"
   ]
  },
  {
   "source": [
    "### Result"
   ],
   "cell_type": "markdown",
   "metadata": {}
  },
  {
   "cell_type": "code",
   "execution_count": 171,
   "metadata": {},
   "outputs": [
    {
     "output_type": "stream",
     "name": "stdout",
     "text": [
      "size = 1:\n\n\nItemset: frozenset({'Gf'}) sup: 0.9968107725017717\nItemset: frozenset({'Qp'}) sup: 1.0\nItemset: frozenset({'Rw'}) sup: 0.9985825655563431\nItemset: frozenset({'So'}) sup: 0.9723600283486888\n\n\nsize = 2:\n\n\nItemset: frozenset({'Qp', 'Gf'}) sup: 0.9968107725017717\nItemset: frozenset({'Rw', 'Gf'}) sup: 0.9953933380581148\nItemset: frozenset({'So', 'Gf'}) sup: 0.9723600283486888\nItemset: frozenset({'Qp', 'Rw'}) sup: 0.9985825655563431\nItemset: frozenset({'Qp', 'So'}) sup: 0.9723600283486888\nItemset: frozenset({'Rw', 'So'}) sup: 0.9709425939050319\n\n\nsize = 3:\n\n\nItemset: frozenset({'Qp', 'Rw', 'Gf'}) sup: 0.9953933380581148\nItemset: frozenset({'Qp', 'So', 'Gf'}) sup: 0.9723600283486888\nItemset: frozenset({'Rw', 'So', 'Gf'}) sup: 0.9709425939050319\nItemset: frozenset({'So', 'Qp', 'Rw'}) sup: 0.9709425939050319\n\n\nsize = 4:\n\n\nItemset: frozenset({'Rw', 'Gf', 'Qp', 'So'}) sup: 0.9709425939050319\n\n\n"
     ]
    }
   ],
   "source": [
    "F9 = apriori.main()\n",
    "\n",
    "for i in range(len(F9)):\n",
    "    if len(F9[i]) <=0 :\n",
    "        break\n",
    "    print(f'size = {i+1}:\\n\\n')\n",
    "    for x in F9[i].items():\n",
    "        print(f'Itemset: {x[0]} sup: {x[1]}')\n",
    "    print('\\n')"
   ]
  },
  {
   "source": [
    "## Data Analysis on Eatable Mushrooms (support=0.5)"
   ],
   "cell_type": "markdown",
   "metadata": {}
  },
  {
   "source": [
    "### Extracting frequent itemsets containing edible attributes\n",
    "\n"
   ],
   "cell_type": "markdown",
   "metadata": {}
  },
  {
   "cell_type": "code",
   "execution_count": 262,
   "metadata": {
    "tags": []
   },
   "outputs": [
    {
     "output_type": "execute_result",
     "data": {
      "text/plain": [
       "[(frozenset({'Ae'}), 0.6180014174344437),\n",
       " (frozenset({'Ae', 'Gf'}), 0.6180014174344437),\n",
       " (frozenset({'Ae', 'Ms'}), 0.5428773919206237),\n",
       " (frozenset({'Ae', 'Ns'}), 0.5088589652728561),\n",
       " (frozenset({'Ae', 'Qp'}), 0.6180014174344437),\n",
       " (frozenset({'Ae', 'Rw'}), 0.6180014174344437),\n",
       " (frozenset({'Ae', 'So'}), 0.6094968107725017),\n",
       " (frozenset({'Ae', 'Ib'}), 0.5754783841247342),\n",
       " (frozenset({'Ae', 'Gf', 'Ms'}), 0.5428773919206237),\n",
       " (frozenset({'Ae', 'Gf', 'Ns'}), 0.5088589652728561),\n",
       " (frozenset({'Ae', 'Gf', 'Qp'}), 0.6180014174344437),\n",
       " (frozenset({'Ae', 'Gf', 'Rw'}), 0.6180014174344437),\n",
       " (frozenset({'Ae', 'Gf', 'So'}), 0.6094968107725017),\n",
       " (frozenset({'Ae', 'Ms', 'Qp'}), 0.5428773919206237),\n",
       " (frozenset({'Ae', 'Ms', 'Rw'}), 0.5428773919206237),\n",
       " (frozenset({'Ae', 'Ms', 'So'}), 0.5372076541459957),\n",
       " (frozenset({'Ae', 'Ns', 'Qp'}), 0.5088589652728561),\n",
       " (frozenset({'Ae', 'Ns', 'Rw'}), 0.5088589652728561),\n",
       " (frozenset({'Ae', 'Ns', 'So'}), 0.5031892274982283),\n",
       " (frozenset({'Ae', 'Qp', 'Rw'}), 0.6180014174344437),\n",
       " (frozenset({'Ae', 'Qp', 'So'}), 0.6094968107725017),\n",
       " (frozenset({'Ae', 'Rw', 'So'}), 0.6094968107725017),\n",
       " (frozenset({'Ae', 'Gf', 'Ib'}), 0.5754783841247342),\n",
       " (frozenset({'Ae', 'Ib', 'Ms'}), 0.5046066619418852),\n",
       " (frozenset({'Ae', 'Ib', 'Qp'}), 0.5754783841247342),\n",
       " (frozenset({'Ae', 'Ib', 'Rw'}), 0.5754783841247342),\n",
       " (frozenset({'Ae', 'Ib', 'So'}), 0.5669737774627923),\n",
       " (frozenset({'Ae', 'Gf', 'Ms', 'Qp'}), 0.5428773919206237),\n",
       " (frozenset({'Ae', 'Gf', 'Ms', 'Rw'}), 0.5428773919206237),\n",
       " (frozenset({'Ae', 'Gf', 'Ms', 'So'}), 0.5372076541459957),\n",
       " (frozenset({'Ae', 'Gf', 'Ns', 'Qp'}), 0.5088589652728561),\n",
       " (frozenset({'Ae', 'Gf', 'Ns', 'Rw'}), 0.5088589652728561),\n",
       " (frozenset({'Ae', 'Gf', 'Ns', 'So'}), 0.5031892274982283),\n",
       " (frozenset({'Ae', 'Gf', 'Qp', 'Rw'}), 0.6180014174344437),\n",
       " (frozenset({'Ae', 'Gf', 'Qp', 'So'}), 0.6094968107725017),\n",
       " (frozenset({'Ae', 'Gf', 'Rw', 'So'}), 0.6094968107725017),\n",
       " (frozenset({'Ae', 'Ms', 'Qp', 'Rw'}), 0.5428773919206237),\n",
       " (frozenset({'Ae', 'Ms', 'Qp', 'So'}), 0.5372076541459957),\n",
       " (frozenset({'Ae', 'Ms', 'Rw', 'So'}), 0.5372076541459957),\n",
       " (frozenset({'Ae', 'Ns', 'Qp', 'Rw'}), 0.5088589652728561),\n",
       " (frozenset({'Ae', 'Ns', 'Qp', 'So'}), 0.5031892274982283),\n",
       " (frozenset({'Ae', 'Ns', 'Rw', 'So'}), 0.5031892274982283),\n",
       " (frozenset({'Ae', 'Qp', 'Rw', 'So'}), 0.6094968107725017),\n",
       " (frozenset({'Ae', 'Gf', 'Ib', 'Ms'}), 0.5046066619418852),\n",
       " (frozenset({'Ae', 'Ib', 'Ms', 'Qp'}), 0.5046066619418852),\n",
       " (frozenset({'Ae', 'Ib', 'Ms', 'Rw'}), 0.5046066619418852),\n",
       " (frozenset({'Ae', 'Gf', 'Ib', 'Qp'}), 0.5754783841247342),\n",
       " (frozenset({'Ae', 'Gf', 'Ib', 'Rw'}), 0.5754783841247342),\n",
       " (frozenset({'Ae', 'Gf', 'Ib', 'So'}), 0.5669737774627923),\n",
       " (frozenset({'Ae', 'Ib', 'Qp', 'Rw'}), 0.5754783841247342),\n",
       " (frozenset({'Ae', 'Ib', 'Qp', 'So'}), 0.5669737774627923),\n",
       " (frozenset({'Ae', 'Ib', 'Rw', 'So'}), 0.5669737774627923),\n",
       " (frozenset({'Ae', 'Gf', 'Ms', 'Qp', 'Rw'}), 0.5428773919206237),\n",
       " (frozenset({'Ae', 'Gf', 'Ms', 'Qp', 'So'}), 0.5372076541459957),\n",
       " (frozenset({'Ae', 'Gf', 'Ib', 'Ms', 'Qp'}), 0.5046066619418852),\n",
       " (frozenset({'Ae', 'Gf', 'Ms', 'Rw', 'So'}), 0.5372076541459957),\n",
       " (frozenset({'Ae', 'Gf', 'Ib', 'Ms', 'Rw'}), 0.5046066619418852),\n",
       " (frozenset({'Ae', 'Gf', 'Ns', 'Qp', 'Rw'}), 0.5088589652728561),\n",
       " (frozenset({'Ae', 'Gf', 'Ns', 'Qp', 'So'}), 0.5031892274982283),\n",
       " (frozenset({'Ae', 'Gf', 'Ns', 'Rw', 'So'}), 0.5031892274982283),\n",
       " (frozenset({'Ae', 'Gf', 'Qp', 'Rw', 'So'}), 0.6094968107725017),\n",
       " (frozenset({'Ae', 'Gf', 'Ib', 'Qp', 'Rw'}), 0.5754783841247342),\n",
       " (frozenset({'Ae', 'Gf', 'Ib', 'Rw', 'So'}), 0.5669737774627923),\n",
       " (frozenset({'Ae', 'Ms', 'Qp', 'Rw', 'So'}), 0.5372076541459957),\n",
       " (frozenset({'Ae', 'Ib', 'Ms', 'Qp', 'Rw'}), 0.5046066619418852),\n",
       " (frozenset({'Ae', 'Ns', 'Qp', 'Rw', 'So'}), 0.5031892274982283),\n",
       " (frozenset({'Ae', 'Ib', 'Qp', 'Rw', 'So'}), 0.5669737774627923),\n",
       " (frozenset({'Ae', 'Gf', 'Ib', 'Qp', 'So'}), 0.5669737774627923),\n",
       " (frozenset({'Ae', 'Gf', 'Ms', 'Qp', 'Rw', 'So'}), 0.5372076541459957),\n",
       " (frozenset({'Ae', 'Gf', 'Ib', 'Ms', 'Qp', 'Rw'}), 0.5046066619418852),\n",
       " (frozenset({'Ae', 'Gf', 'Ns', 'Qp', 'Rw', 'So'}), 0.5031892274982283),\n",
       " (frozenset({'Ae', 'Gf', 'Ib', 'Qp', 'Rw', 'So'}), 0.5669737774627923),\n",
       " (frozenset({'Ae'}), 0.6180014174344437),\n",
       " (frozenset({'Ae', 'Gf'}), 0.6180014174344437),\n",
       " (frozenset({'Ae', 'Ms'}), 0.5428773919206237),\n",
       " (frozenset({'Ae', 'Ns'}), 0.5088589652728561),\n",
       " (frozenset({'Ae', 'Qp'}), 0.6180014174344437),\n",
       " (frozenset({'Ae', 'Rw'}), 0.6180014174344437),\n",
       " (frozenset({'Ae', 'So'}), 0.6094968107725017),\n",
       " (frozenset({'Ae', 'Ib'}), 0.5754783841247342),\n",
       " (frozenset({'Ae', 'Gf', 'Ms'}), 0.5428773919206237),\n",
       " (frozenset({'Ae', 'Gf', 'Ns'}), 0.5088589652728561),\n",
       " (frozenset({'Ae', 'Gf', 'Qp'}), 0.6180014174344437),\n",
       " (frozenset({'Ae', 'Gf', 'Rw'}), 0.6180014174344437),\n",
       " (frozenset({'Ae', 'Gf', 'So'}), 0.6094968107725017),\n",
       " (frozenset({'Ae', 'Ms', 'Qp'}), 0.5428773919206237),\n",
       " (frozenset({'Ae', 'Ms', 'Rw'}), 0.5428773919206237),\n",
       " (frozenset({'Ae', 'Ms', 'So'}), 0.5372076541459957),\n",
       " (frozenset({'Ae', 'Ns', 'Qp'}), 0.5088589652728561),\n",
       " (frozenset({'Ae', 'Ns', 'Rw'}), 0.5088589652728561),\n",
       " (frozenset({'Ae', 'Ns', 'So'}), 0.5031892274982283),\n",
       " (frozenset({'Ae', 'Qp', 'Rw'}), 0.6180014174344437),\n",
       " (frozenset({'Ae', 'Qp', 'So'}), 0.6094968107725017),\n",
       " (frozenset({'Ae', 'Rw', 'So'}), 0.6094968107725017),\n",
       " (frozenset({'Ae', 'Gf', 'Ib'}), 0.5754783841247342),\n",
       " (frozenset({'Ae', 'Ib', 'Ms'}), 0.5046066619418852),\n",
       " (frozenset({'Ae', 'Ib', 'Qp'}), 0.5754783841247342),\n",
       " (frozenset({'Ae', 'Ib', 'Rw'}), 0.5754783841247342),\n",
       " (frozenset({'Ae', 'Ib', 'So'}), 0.5669737774627923),\n",
       " (frozenset({'Ae', 'Gf', 'Ms', 'Qp'}), 0.5428773919206237),\n",
       " (frozenset({'Ae', 'Gf', 'Ms', 'Rw'}), 0.5428773919206237),\n",
       " (frozenset({'Ae', 'Gf', 'Ms', 'So'}), 0.5372076541459957),\n",
       " (frozenset({'Ae', 'Gf', 'Ns', 'Qp'}), 0.5088589652728561),\n",
       " (frozenset({'Ae', 'Gf', 'Ns', 'Rw'}), 0.5088589652728561),\n",
       " (frozenset({'Ae', 'Gf', 'Ns', 'So'}), 0.5031892274982283),\n",
       " (frozenset({'Ae', 'Gf', 'Qp', 'Rw'}), 0.6180014174344437),\n",
       " (frozenset({'Ae', 'Gf', 'Qp', 'So'}), 0.6094968107725017),\n",
       " (frozenset({'Ae', 'Gf', 'Rw', 'So'}), 0.6094968107725017),\n",
       " (frozenset({'Ae', 'Ms', 'Qp', 'Rw'}), 0.5428773919206237),\n",
       " (frozenset({'Ae', 'Ms', 'Qp', 'So'}), 0.5372076541459957),\n",
       " (frozenset({'Ae', 'Ms', 'Rw', 'So'}), 0.5372076541459957),\n",
       " (frozenset({'Ae', 'Ns', 'Qp', 'Rw'}), 0.5088589652728561),\n",
       " (frozenset({'Ae', 'Ns', 'Qp', 'So'}), 0.5031892274982283),\n",
       " (frozenset({'Ae', 'Ns', 'Rw', 'So'}), 0.5031892274982283),\n",
       " (frozenset({'Ae', 'Qp', 'Rw', 'So'}), 0.6094968107725017),\n",
       " (frozenset({'Ae', 'Gf', 'Ib', 'Ms'}), 0.5046066619418852),\n",
       " (frozenset({'Ae', 'Ib', 'Ms', 'Qp'}), 0.5046066619418852),\n",
       " (frozenset({'Ae', 'Ib', 'Ms', 'Rw'}), 0.5046066619418852),\n",
       " (frozenset({'Ae', 'Gf', 'Ib', 'Qp'}), 0.5754783841247342),\n",
       " (frozenset({'Ae', 'Gf', 'Ib', 'Rw'}), 0.5754783841247342),\n",
       " (frozenset({'Ae', 'Gf', 'Ib', 'So'}), 0.5669737774627923),\n",
       " (frozenset({'Ae', 'Ib', 'Qp', 'Rw'}), 0.5754783841247342),\n",
       " (frozenset({'Ae', 'Ib', 'Qp', 'So'}), 0.5669737774627923),\n",
       " (frozenset({'Ae', 'Ib', 'Rw', 'So'}), 0.5669737774627923),\n",
       " (frozenset({'Ae', 'Gf', 'Ms', 'Qp', 'Rw'}), 0.5428773919206237),\n",
       " (frozenset({'Ae', 'Gf', 'Ms', 'Qp', 'So'}), 0.5372076541459957),\n",
       " (frozenset({'Ae', 'Gf', 'Ib', 'Ms', 'Qp'}), 0.5046066619418852),\n",
       " (frozenset({'Ae', 'Gf', 'Ms', 'Rw', 'So'}), 0.5372076541459957),\n",
       " (frozenset({'Ae', 'Gf', 'Ib', 'Ms', 'Rw'}), 0.5046066619418852),\n",
       " (frozenset({'Ae', 'Gf', 'Ns', 'Qp', 'Rw'}), 0.5088589652728561),\n",
       " (frozenset({'Ae', 'Gf', 'Ns', 'Qp', 'So'}), 0.5031892274982283),\n",
       " (frozenset({'Ae', 'Gf', 'Ns', 'Rw', 'So'}), 0.5031892274982283),\n",
       " (frozenset({'Ae', 'Gf', 'Qp', 'Rw', 'So'}), 0.6094968107725017),\n",
       " (frozenset({'Ae', 'Gf', 'Ib', 'Qp', 'Rw'}), 0.5754783841247342),\n",
       " (frozenset({'Ae', 'Gf', 'Ib', 'Rw', 'So'}), 0.5669737774627923),\n",
       " (frozenset({'Ae', 'Ms', 'Qp', 'Rw', 'So'}), 0.5372076541459957),\n",
       " (frozenset({'Ae', 'Ib', 'Ms', 'Qp', 'Rw'}), 0.5046066619418852),\n",
       " (frozenset({'Ae', 'Ns', 'Qp', 'Rw', 'So'}), 0.5031892274982283),\n",
       " (frozenset({'Ae', 'Ib', 'Qp', 'Rw', 'So'}), 0.5669737774627923),\n",
       " (frozenset({'Ae', 'Gf', 'Ib', 'Qp', 'So'}), 0.5669737774627923),\n",
       " (frozenset({'Ae', 'Gf', 'Ms', 'Qp', 'Rw', 'So'}), 0.5372076541459957),\n",
       " (frozenset({'Ae', 'Gf', 'Ib', 'Ms', 'Qp', 'Rw'}), 0.5046066619418852),\n",
       " (frozenset({'Ae', 'Gf', 'Ns', 'Qp', 'Rw', 'So'}), 0.5031892274982283),\n",
       " (frozenset({'Ae', 'Gf', 'Ib', 'Qp', 'Rw', 'So'}), 0.5669737774627923)]"
      ]
     },
     "metadata": {},
     "execution_count": 262
    }
   ],
   "source": [
    "import numpy as np\n",
    "\n",
    "\n",
    "edible\n",
    "for r in F5:\n",
    "    for c in r.items():\n",
    "        if 'Ae' in c[0]:\n",
    "            edible.append(c)\n",
    "\n",
    "edible"
   ]
  },
  {
   "cell_type": "code",
   "execution_count": 271,
   "metadata": {},
   "outputs": [
    {
     "output_type": "execute_result",
     "data": {
      "text/plain": [
       "[(frozenset({'Ae'}), 0.6180014174344437),\n",
       " (frozenset({'Ae', 'Gf'}), 0.6180014174344437),\n",
       " (frozenset({'Ae', 'Qp'}), 0.6180014174344437),\n",
       " (frozenset({'Ae', 'Rw'}), 0.6180014174344437),\n",
       " (frozenset({'Ae', 'Gf', 'Qp'}), 0.6180014174344437),\n",
       " (frozenset({'Ae', 'Gf', 'Rw'}), 0.6180014174344437),\n",
       " (frozenset({'Ae', 'Qp', 'Rw'}), 0.6180014174344437),\n",
       " (frozenset({'Ae', 'Gf', 'Qp', 'Rw'}), 0.6180014174344437),\n",
       " (frozenset({'Ae'}), 0.6180014174344437),\n",
       " (frozenset({'Ae', 'Gf'}), 0.6180014174344437),\n",
       " (frozenset({'Ae', 'Qp'}), 0.6180014174344437),\n",
       " (frozenset({'Ae', 'Rw'}), 0.6180014174344437),\n",
       " (frozenset({'Ae', 'Gf', 'Qp'}), 0.6180014174344437),\n",
       " (frozenset({'Ae', 'Gf', 'Rw'}), 0.6180014174344437),\n",
       " (frozenset({'Ae', 'Qp', 'Rw'}), 0.6180014174344437),\n",
       " (frozenset({'Ae', 'Gf', 'Qp', 'Rw'}), 0.6180014174344437),\n",
       " (frozenset({'Ae', 'So'}), 0.6094968107725017),\n",
       " (frozenset({'Ae', 'Gf', 'So'}), 0.6094968107725017),\n",
       " (frozenset({'Ae', 'Qp', 'So'}), 0.6094968107725017),\n",
       " (frozenset({'Ae', 'Rw', 'So'}), 0.6094968107725017),\n",
       " (frozenset({'Ae', 'Gf', 'Qp', 'So'}), 0.6094968107725017),\n",
       " (frozenset({'Ae', 'Gf', 'Rw', 'So'}), 0.6094968107725017),\n",
       " (frozenset({'Ae', 'Qp', 'Rw', 'So'}), 0.6094968107725017),\n",
       " (frozenset({'Ae', 'Gf', 'Qp', 'Rw', 'So'}), 0.6094968107725017),\n",
       " (frozenset({'Ae', 'So'}), 0.6094968107725017),\n",
       " (frozenset({'Ae', 'Gf', 'So'}), 0.6094968107725017),\n",
       " (frozenset({'Ae', 'Qp', 'So'}), 0.6094968107725017),\n",
       " (frozenset({'Ae', 'Rw', 'So'}), 0.6094968107725017),\n",
       " (frozenset({'Ae', 'Gf', 'Qp', 'So'}), 0.6094968107725017),\n",
       " (frozenset({'Ae', 'Gf', 'Rw', 'So'}), 0.6094968107725017)]"
      ]
     },
     "metadata": {},
     "execution_count": 271
    }
   ],
   "source": [
    "t30_edible = sorted(edible, key=lambda x: x[1], reverse=True)[:30]\n",
    "\n",
    "\n",
    "t30_edible\n"
   ]
  },
  {
   "cell_type": "code",
   "execution_count": 272,
   "metadata": {},
   "outputs": [
    {
     "output_type": "stream",
     "name": "stdout",
     "text": [
      "Itemset: frozenset({'Ae'}) Confidence: 1.0\n\nItemset: frozenset({'Ae', 'Gf'}) Confidence: 1.0\n\nItemset: frozenset({'Qp', 'Ae'}) Confidence: 1.0\n\nItemset: frozenset({'Rw', 'Ae'}) Confidence: 1.0\n\nItemset: frozenset({'Ae', 'Qp', 'Gf'}) Confidence: 1.0\n\nItemset: frozenset({'Ae', 'Rw', 'Gf'}) Confidence: 1.0\n\nItemset: frozenset({'Qp', 'Rw', 'Ae'}) Confidence: 1.0\n\nItemset: frozenset({'Rw', 'Gf', 'Ae', 'Qp'}) Confidence: 1.0\n\nItemset: frozenset({'Ae'}) Confidence: 1.0\n\nItemset: frozenset({'Ae', 'Gf'}) Confidence: 1.0\n\nItemset: frozenset({'Qp', 'Ae'}) Confidence: 1.0\n\nItemset: frozenset({'Rw', 'Ae'}) Confidence: 1.0\n\nItemset: frozenset({'Ae', 'Qp', 'Gf'}) Confidence: 1.0\n\nItemset: frozenset({'Ae', 'Rw', 'Gf'}) Confidence: 1.0\n\nItemset: frozenset({'Qp', 'Rw', 'Ae'}) Confidence: 1.0\n\nItemset: frozenset({'Rw', 'Gf', 'Ae', 'Qp'}) Confidence: 1.0\n\nItemset: frozenset({'So', 'Ae'}) Confidence: 0.9862385321100916\n\nItemset: frozenset({'Ae', 'So', 'Gf'}) Confidence: 0.9862385321100916\n\nItemset: frozenset({'Qp', 'So', 'Ae'}) Confidence: 0.9862385321100916\n\nItemset: frozenset({'Rw', 'So', 'Ae'}) Confidence: 0.9862385321100916\n\nItemset: frozenset({'Gf', 'Ae', 'Qp', 'So'}) Confidence: 0.9862385321100916\n\nItemset: frozenset({'Gf', 'Ae', 'Rw', 'So'}) Confidence: 0.9862385321100916\n\nItemset: frozenset({'Rw', 'Ae', 'Qp', 'So'}) Confidence: 0.9862385321100916\n\nItemset: frozenset({'Ae', 'Gf', 'So', 'Rw', 'Qp'}) Confidence: 0.9862385321100916\n\nItemset: frozenset({'So', 'Ae'}) Confidence: 0.9862385321100916\n\nItemset: frozenset({'Ae', 'So', 'Gf'}) Confidence: 0.9862385321100916\n\nItemset: frozenset({'Qp', 'So', 'Ae'}) Confidence: 0.9862385321100916\n\nItemset: frozenset({'Rw', 'So', 'Ae'}) Confidence: 0.9862385321100916\n\nItemset: frozenset({'Gf', 'Ae', 'Qp', 'So'}) Confidence: 0.9862385321100916\n\nItemset: frozenset({'Gf', 'Ae', 'Rw', 'So'}) Confidence: 0.9862385321100916\n\n"
     ]
    }
   ],
   "source": [
    "benchmark = 0.6180014174344437\n",
    "\n",
    "for r in t30_edible:\n",
    "    print(f'Itemset: {r[0]} Confidence: {r[1]/benchmark}\\n')\n"
   ]
  }
 ]
}