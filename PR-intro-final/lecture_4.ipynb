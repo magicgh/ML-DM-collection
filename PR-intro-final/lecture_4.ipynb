{
  "nbformat": 4,
  "nbformat_minor": 0,
  "metadata": {
    "colab": {
      "name": "lecture-4.ipynb",
      "provenance": [],
      "collapsed_sections": []
    },
    "kernelspec": {
      "display_name": "Python 3",
      "language": "python",
      "name": "python3"
    },
    "language_info": {
      "codemirror_mode": {
        "name": "ipython",
        "version": 2
      },
      "file_extension": ".py",
      "mimetype": "text/x-python",
      "name": "python",
      "nbconvert_exporter": "python",
      "pygments_lexer": "ipython2",
      "version": "3.8.5"
    }
  },
  "cells": [
    {
      "cell_type": "code",
      "metadata": {
        "colab": {
          "base_uri": "https://localhost:8080/"
        },
        "id": "Tcfa21-KJexL",
        "outputId": "974aa465-310a-4845-bb8d-e443f01f6e21"
      },
      "source": [
        "!pip install wget\n",
        "!pip install --upgrade scikit-learn"
      ],
      "execution_count": null,
      "outputs": [
        {
          "output_type": "stream",
          "text": [
            "Collecting wget\n",
            "  Downloading https://files.pythonhosted.org/packages/47/6a/62e288da7bcda82b935ff0c6cfe542970f04e29c756b0e147251b2fb251f/wget-3.2.zip\n",
            "Building wheels for collected packages: wget\n",
            "  Building wheel for wget (setup.py) ... \u001b[?25l\u001b[?25hdone\n",
            "  Created wheel for wget: filename=wget-3.2-cp37-none-any.whl size=9681 sha256=2fd7c2e27061db246603892d27f0d74b76b33a311635a05f308710e9814044c2\n",
            "  Stored in directory: /root/.cache/pip/wheels/40/15/30/7d8f7cea2902b4db79e3fea550d7d7b85ecb27ef992b618f3f\n",
            "Successfully built wget\n",
            "Installing collected packages: wget\n",
            "Successfully installed wget-3.2\n",
            "Collecting scikit-learn\n",
            "\u001b[?25l  Downloading https://files.pythonhosted.org/packages/a8/eb/a48f25c967526b66d5f1fa7a984594f0bf0a5afafa94a8c4dbc317744620/scikit_learn-0.24.2-cp37-cp37m-manylinux2010_x86_64.whl (22.3MB)\n",
            "\u001b[K     |████████████████████████████████| 22.3MB 2.2MB/s \n",
            "\u001b[?25hRequirement already satisfied, skipping upgrade: numpy>=1.13.3 in /usr/local/lib/python3.7/dist-packages (from scikit-learn) (1.19.5)\n",
            "Requirement already satisfied, skipping upgrade: joblib>=0.11 in /usr/local/lib/python3.7/dist-packages (from scikit-learn) (1.0.1)\n",
            "Collecting threadpoolctl>=2.0.0\n",
            "  Downloading https://files.pythonhosted.org/packages/f7/12/ec3f2e203afa394a149911729357aa48affc59c20e2c1c8297a60f33f133/threadpoolctl-2.1.0-py3-none-any.whl\n",
            "Requirement already satisfied, skipping upgrade: scipy>=0.19.1 in /usr/local/lib/python3.7/dist-packages (from scikit-learn) (1.4.1)\n",
            "Installing collected packages: threadpoolctl, scikit-learn\n",
            "  Found existing installation: scikit-learn 0.22.2.post1\n",
            "    Uninstalling scikit-learn-0.22.2.post1:\n",
            "      Successfully uninstalled scikit-learn-0.22.2.post1\n",
            "Successfully installed scikit-learn-0.24.2 threadpoolctl-2.1.0\n"
          ],
          "name": "stdout"
        }
      ]
    },
    {
      "cell_type": "code",
      "metadata": {
        "collapsed": true,
        "id": "FdSg3wXHJZBN"
      },
      "source": [
        "import util\n",
        "\n",
        "X1, y1, X2, y2 = util.mnist_init('small')\n"
      ],
      "execution_count": null,
      "outputs": []
    },
    {
      "cell_type": "code",
      "metadata": {
        "colab": {
          "base_uri": "https://localhost:8080/",
          "height": 519
        },
        "id": "0wevw9ZJJZBP",
        "outputId": "07d0df0d-d2b4-4079-bae4-efab92809779"
      },
      "source": [
        "util.image_peek(X1[1], 5 if y1[1] == 1 else 8)\n",
        "util.image_peek(X1[3], 5 if y1[3] == 1 else 8)"
      ],
      "execution_count": null,
      "outputs": [
        {
          "output_type": "display_data",
          "data": {
            "image/png": "[encoded data removed]",
            "text/plain": [
              "<Figure size 432x288 with 1 Axes>"
            ]
          },
          "metadata": {
            "tags": []
          }
        },
        {
          "output_type": "display_data",
          "data": {
            "image/png": "[encoded data removed]",
            "text/plain": [
              "<Figure size 432x288 with 1 Axes>"
            ]
          },
          "metadata": {
            "tags": []
          }
        }
      ]
    },
    {
      "cell_type": "code",
      "metadata": {
        "id": "7F3dFKb1JZBQ"
      },
      "source": [
        "import numpy as np\n",
        "\n",
        "\n",
        "class Perceptron(object):\n",
        "    def __init__(self, dataset, labels, max_iter, lr):\n",
        "        self.b = 0\n",
        "        self.w = np.zeros(dataset.shape[1])\n",
        "        self.labels = labels\n",
        "        self.dataset = dataset\n",
        "        self.max_iter = max_iter\n",
        "        self.lr = lr\n",
        "        self.func = lambda x: 1 if x > 0 else -1\n",
        "\n",
        "    def fit(self):\n",
        "        for i in range(self.max_iter):\n",
        "            flag = 0\n",
        "            for x, y in zip(self.dataset, self.labels):\n",
        "                y_ = self.func(np.dot(self.w, x) + self.b)\n",
        "                if y*y_<0:\n",
        "                    self.w += (y - y_) * self.lr * x\n",
        "                    self.b += (y - y_) * self.lr\n",
        "                    flag = 1\n",
        "            if flag == 0:\n",
        "                break\n",
        "\n",
        "    def predict(self, test_set):\n",
        "        return [self.func(np.dot(self.w, x) + self.b) for x in test_set]\n",
        "\n",
        "    def score(self, test_set, test_labels, view=False):\n",
        "        if view == True:\n",
        "            util.image_peek(self.w, \"Weight\")\n",
        "        y_predict = self.predict(test_set)\n",
        "        return sum(y_predict[i] == test_labels[i] for i in range(len(test_labels))) / len(test_labels)"
      ],
      "execution_count": null,
      "outputs": []
    },
    {
      "cell_type": "code",
      "metadata": {
        "colab": {
          "base_uri": "https://localhost:8080/",
          "height": 303
        },
        "id": "eiF1ZkjDJZBQ",
        "outputId": "082d19b5-8307-4bb8-a9f5-1c93cf2a597e"
      },
      "source": [
        "clf = Perceptron(X1, y1, 100, 1e-6)\n",
        "clf.fit()\n",
        "print(clf.score(X2, y2, True))\n",
        "\n",
        "y_pred = clf.predict(X2)\n",
        "print(util.f1_score(y2, y_pred))\n",
        "print(util.recall_score(y2, y_pred))"
      ],
      "execution_count": null,
      "outputs": [
        {
          "output_type": "display_data",
          "data": {
            "image/png": "[encoded data removed]",
            "text/plain": [
              "<Figure size 432x288 with 2 Axes>"
            ]
          },
          "metadata": {
            "tags": [],
            "needs_background": "light"
          }
        },
        {
          "output_type": "stream",
          "text": [
            "0.9356913183279743\n",
            "0.9356806783516881\n",
            "0.9369354333753832\n"
          ],
          "name": "stdout"
        }
      ]
    },
    {
      "cell_type": "code",
      "metadata": {
        "colab": {
          "base_uri": "https://localhost:8080/"
        },
        "id": "bgBHNZkkKB03",
        "outputId": "ef3a330a-2d2e-44b4-e444-f91b469038c8"
      },
      "source": [
        "clf = Perceptron(X1, y1, 100, 1e-3)\n",
        "clf.fit()\n",
        "print(clf.score(X2, y2))\n",
        "\n",
        "y_pred = clf.predict(X2)\n",
        "print(util.f1_score(y2, y_pred))\n",
        "print(util.recall_score(y2, y_pred))"
      ],
      "execution_count": null,
      "outputs": [
        {
          "output_type": "stream",
          "text": [
            "0.9356913183279743\n",
            "0.9356806783516881\n",
            "0.9369354333753832\n"
          ],
          "name": "stdout"
        }
      ]
    },
    {
      "cell_type": "code",
      "metadata": {
        "colab": {
          "base_uri": "https://localhost:8080/",
          "height": 305
        },
        "id": "naG4BwCVKFv-",
        "outputId": "455c6bd2-3a2e-4eee-9f1f-e21b27d00381"
      },
      "source": [
        "clf = Perceptron(X1, y1, 200, 1e-6)\n",
        "clf.fit()\n",
        "print(clf.score(X2, y2, True))\n",
        "\n",
        "y_pred = clf.predict(X2)\n",
        "print(util.f1_score(y2, y_pred))\n",
        "print(util.recall_score(y2, y_pred))"
      ],
      "execution_count": null,
      "outputs": [
        {
          "output_type": "display_data",
          "data": {
            "image/png": "[encoded data removed]",
            "text/plain": [
              "<Figure size 432x288 with 2 Axes>"
            ]
          },
          "metadata": {
            "tags": [],
            "needs_background": "light"
          }
        },
        {
          "output_type": "stream",
          "text": [
            "0.9362272240085745\n",
            "0.9362138694201786\n",
            "0.9374015893039659\n"
          ],
          "name": "stdout"
        }
      ]
    },
    {
      "cell_type": "code",
      "metadata": {
        "colab": {
          "base_uri": "https://localhost:8080/"
        },
        "id": "IOXAnouWKHcJ",
        "outputId": "1038184e-b98e-499b-f2b4-1572384e956e"
      },
      "source": [
        "clf = Perceptron(X1, y1, 200, 1e-3)\n",
        "clf.fit()\n",
        "print(clf.score(X2, y2))\n",
        "\n",
        "y_pred = clf.predict(X2)\n",
        "print(util.f1_score(y2, y_pred))\n",
        "print(util.recall_score(y2, y_pred))"
      ],
      "execution_count": null,
      "outputs": [
        {
          "output_type": "stream",
          "text": [
            "0.9362272240085745\n",
            "0.9362138694201786\n",
            "0.9374015893039659\n"
          ],
          "name": "stdout"
        }
      ]
    },
    {
      "cell_type": "code",
      "metadata": {
        "colab": {
          "base_uri": "https://localhost:8080/",
          "height": 303
        },
        "id": "iBS1Kqr3KKMX",
        "outputId": "5caef144-c78e-4920-e245-4d93a8cba50c"
      },
      "source": [
        "clf = Perceptron(X1, y1, 400, 1e-6)\n",
        "clf.fit()\n",
        "print(clf.score(X2, y2, True))\n",
        "\n",
        "y_pred = clf.predict(X2)\n",
        "print(util.f1_score(y2, y_pred))\n",
        "print(util.recall_score(y2, y_pred))"
      ],
      "execution_count": null,
      "outputs": [
        {
          "output_type": "display_data",
          "data": {
            "image/png": "[encoded data removed]",
            "text/plain": [
              "<Figure size 432x288 with 2 Axes>"
            ]
          },
          "metadata": {
            "tags": [],
            "needs_background": "light"
          }
        },
        {
          "output_type": "stream",
          "text": [
            "0.927652733118971\n",
            "0.9276517149941109\n",
            "0.9296127567886114\n"
          ],
          "name": "stdout"
        }
      ]
    },
    {
      "cell_type": "code",
      "metadata": {
        "colab": {
          "base_uri": "https://localhost:8080/"
        },
        "id": "XStZzA25KWxd",
        "outputId": "326085b5-ae2f-4117-baf0-a4d761f77b7a"
      },
      "source": [
        "clf = Perceptron(X1, y1, 400, 1e-3)\n",
        "clf.fit()\n",
        "print(clf.score(X2, y2))\n",
        "\n",
        "y_pred = clf.predict(X2)\n",
        "print(util.f1_score(y2, y_pred))\n",
        "print(util.recall_score(y2, y_pred))"
      ],
      "execution_count": null,
      "outputs": [
        {
          "output_type": "stream",
          "text": [
            "0.927652733118971\n",
            "0.9276517149941109\n",
            "0.9296127567886114\n"
          ],
          "name": "stdout"
        }
      ]
    },
    {
      "cell_type": "code",
      "metadata": {
        "id": "SIiPiJ5iJZBR"
      },
      "source": [
        "class LSEClassifier(object):\n",
        "    def __init__(self, dataset, labels, max_iter, lr):\n",
        "        \n",
        "        self.dataset = np.array([np.append(dataset[i]*labels[i], labels[i]) for i in range(len(dataset))])\n",
        "        self.labels = labels\n",
        "        self.b = np.ones(self.dataset.shape[0])\n",
        "        self.w = None\n",
        "        self.max_iter = max_iter\n",
        "        self.lr = lr\n",
        "\n",
        "    def fit(self):\n",
        "        for i in range(self.max_iter):\n",
        "            self.w = np.dot(np.linalg.pinv(self.dataset), self.b)    \n",
        "            e = np.dot(self.dataset, self.w) - self.b\n",
        "            if np.all(self.b <= 0):\n",
        "                break    \n",
        "            else:\n",
        "                self.b = self.b + self.lr*(e*abs(e))\n",
        "\n",
        "    def predict(self, test_set):\n",
        "        return np.dot(test_set, self.w)\n",
        "\n",
        "    def score(self, test_set, test_labels):\n",
        "        test_set = np.array([np.append(test_set[i]*test_labels[i], test_labels[i]) for i in range(len(test_set))])\n",
        "        y_predict = self.predict(test_set)\n",
        "        return sum([y_predict[i]>0 for i in range(len(y_predict))])/len(y_predict)"
      ],
      "execution_count": null,
      "outputs": []
    },
    {
      "cell_type": "code",
      "metadata": {
        "colab": {
          "base_uri": "https://localhost:8080/"
        },
        "id": "X3Dg6czMJZBR",
        "outputId": "34ffdfb4-4fb5-4099-fdae-3d67b2129c7c"
      },
      "source": [
        "clf = LSEClassifier(X1, y1, 20, 1e-4)\n",
        "clf.fit()\n",
        "print(clf.score(X2, y2))"
      ],
      "execution_count": null,
      "outputs": [
        {
          "output_type": "stream",
          "text": [
            "0.9512325830653805\n"
          ],
          "name": "stdout"
        }
      ]
    },
    {
      "cell_type": "code",
      "metadata": {
        "colab": {
          "base_uri": "https://localhost:8080/"
        },
        "id": "Yo3sauXdJZBS",
        "outputId": "d01e4424-36a5-40f5-b584-c6793f295df2"
      },
      "source": [
        "clf = LSEClassifier(X1, y1, 40, 1e-4)\n",
        "clf.fit()\n",
        "print(clf.score(X2, y2))"
      ],
      "execution_count": null,
      "outputs": [
        {
          "output_type": "stream",
          "text": [
            "0.9512325830653805\n"
          ],
          "name": "stdout"
        }
      ]
    },
    {
      "cell_type": "code",
      "metadata": {
        "id": "-LLy9AefK-2S",
        "colab": {
          "base_uri": "https://localhost:8080/"
        },
        "outputId": "7ec6c176-3e09-4974-a32f-315e8b025e44"
      },
      "source": [
        "clf = LSEClassifier(X1, y1, 20, 1e-2)\n",
        "clf.fit()\n",
        "print(clf.score(X2, y2))"
      ],
      "execution_count": null,
      "outputs": [
        {
          "output_type": "stream",
          "text": [
            "0.9506966773847803\n"
          ],
          "name": "stdout"
        }
      ]
    },
    {
      "cell_type": "code",
      "metadata": {
        "id": "5gQVRNSULEYI",
        "colab": {
          "base_uri": "https://localhost:8080/"
        },
        "outputId": "7996b436-2a07-454f-c86b-860977d9db45"
      },
      "source": [
        "clf = LSEClassifier(X1, y1, 40, 1e-2)\n",
        "clf.fit()\n",
        "print(clf.score(X2, y2))"
      ],
      "execution_count": null,
      "outputs": [
        {
          "output_type": "stream",
          "text": [
            "0.9490889603429796\n"
          ],
          "name": "stdout"
        }
      ]
    },
    {
      "cell_type": "code",
      "metadata": {
        "id": "6yVMtjJ3Pb9d"
      },
      "source": [
        "class FisherClassifier(object):\n",
        "    def __init__(self, dataset, labels):\n",
        "        \n",
        "        self.dataset = dataset\n",
        "        self.labels = labels\n",
        "        self.w = None\n",
        "        bnd = None\n",
        "       \n",
        "    def fit(self):\n",
        "        case1_dt = np.array([self.dataset[i] for i in range(self.dataset.shape[0]) if self.labels[i] == 1])\n",
        "        case2_dt = np.array([self.dataset[i] for i in range(self.dataset.shape[0]) if self.labels[i] == -1])\n",
        "\n",
        "        case1_mean = np.mean(case1_dt, axis=0)\n",
        "        case2_mean = np.mean(case2_dt, axis=0)\n",
        "\n",
        "        case1_sw = np.dot((case1_dt - case1_mean).T, (case1_dt - case1_mean))\n",
        "        case2_sw = np.dot((case2_dt - case2_mean).T, (case2_dt - case2_mean))\n",
        "\n",
        "        self.w = np.dot(np.linalg.pinv(case1_sw + case2_sw), (case1_mean - case2_mean))\n",
        "        self.bnd = (np.dot(self.w, case1_mean) + np.dot(self.w, case2_mean))/2\n",
        "\n",
        "    def score(self, test_set, test_labels, view=False):\n",
        "        case1_dt = np.array([test_set[i] for i in range(test_set.shape[0]) if test_labels[i] == 1])\n",
        "        case2_dt = np.array([test_set[i] for i in range(test_set.shape[0]) if test_labels[i] == -1])\n",
        "        case1_proj = [np.dot(self.w, x) for x in case1_dt]\n",
        "        case2_proj = [np.dot(self.w, x) for x in case2_dt]\n",
        "        case1_ac = sum([x>self.bnd for x in case1_proj])/len(case1_proj)\n",
        "        case2_ac = sum([x<self.bnd for x in case2_proj])/len(case2_proj)\n",
        "        total_ac = sum([x>self.bnd for x in case1_proj]+[x<self.bnd for x in case2_proj])/(len(case1_proj)+len(case2_proj))\n",
        "        \n",
        "        return case1_ac, case2_ac, total_ac"
      ],
      "execution_count": null,
      "outputs": []
    },
    {
      "cell_type": "code",
      "metadata": {
        "colab": {
          "base_uri": "https://localhost:8080/"
        },
        "id": "oC2JBzH7SECP",
        "outputId": "29749cb6-54cf-484e-983d-eeee50ca8ba5"
      },
      "source": [
        "clf = FisherClassifier(X1, y1)\n",
        "clf.fit()\n",
        "clf.score(X2, y2)"
      ],
      "execution_count": null,
      "outputs": [
        {
          "output_type": "execute_result",
          "data": {
            "text/plain": [
              "(0.9618834080717489, 0.9404517453798767, 0.9506966773847803)"
            ]
          },
          "metadata": {
            "tags": []
          },
          "execution_count": 22
        }
      ]
    },
    {
      "cell_type": "code",
      "metadata": {
        "id": "4vyowiwiSmMg"
      },
      "source": [
        "X1, y1, X2, y2 = util.mnist_init('complete')"
      ],
      "execution_count": null,
      "outputs": []
    },
    {
      "cell_type": "code",
      "metadata": {
        "colab": {
          "base_uri": "https://localhost:8080/",
          "height": 268
        },
        "id": "go_OpdolUXqL",
        "outputId": "ec0b7be9-9769-4a40-a9bd-8b14a495e127"
      },
      "source": [
        "util.image_peek(X1[1], y1[1])"
      ],
      "execution_count": null,
      "outputs": [
        {
          "output_type": "display_data",
          "data": {
            "image/png": "[encoded data removed]",
            "text/plain": [
              "<Figure size 432x288 with 1 Axes>"
            ]
          },
          "metadata": {
            "tags": []
          }
        }
      ]
    },
    {
      "cell_type": "code",
      "metadata": {
        "colab": {
          "base_uri": "https://localhost:8080/"
        },
        "id": "dVWf40U5UhPN",
        "outputId": "6d402f82-5b92-4d41-ab90-a7ce375a0bde"
      },
      "source": [
        "ac = []\n",
        "\n",
        "for z1, z2 in util.convert2ovr(y1, y2):\n",
        "    clf = Perceptron(X1, z1, 200, 1e-3)\n",
        "    clf.fit()\n",
        "    ac.append(clf.score(X2, z2))\n",
        "\n",
        "print(ac)\n",
        "np.mean(ac, axis=0)\n",
        "   "
      ],
      "execution_count": null,
      "outputs": [
        {
          "output_type": "stream",
          "text": [
            "[0.9897, 0.9884, 0.9597, 0.914, 0.9742, 0.9569, 0.9749, 0.9805, 0.89, 0.9467]\n"
          ],
          "name": "stdout"
        },
        {
          "output_type": "execute_result",
          "data": {
            "text/plain": [
              "0.9574999999999999"
            ]
          },
          "metadata": {
            "tags": []
          },
          "execution_count": 11
        }
      ]
    }
  ]
}