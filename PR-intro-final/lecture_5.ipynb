{
  "nbformat": 4,
  "nbformat_minor": 0,
  "metadata": {
    "colab": {
      "name": "lecture-5.ipynb",
      "provenance": []
    },
    "kernelspec": {
      "display_name": "Python 3",
      "name": "python3"
    },
    "language_info": {
      "name": "python"
    }
  },
  "cells": [
    {
      "cell_type": "code",
      "metadata": {
        "colab": {
          "base_uri": "https://localhost:8080/"
        },
        "id": "l0wYWFdzi4eE",
        "outputId": "9748ffba-ac24-4ade-fbbf-f843fb761286"
      },
      "source": [
        "!pip install wget"
      ],
      "execution_count": null,
      "outputs": [
        {
          "output_type": "stream",
          "text": [
            "Requirement already satisfied: wget in /usr/local/lib/python3.7/dist-packages (3.2)\n"
          ],
          "name": "stdout"
        }
      ]
    },
    {
      "cell_type": "code",
      "metadata": {
        "id": "cLJ-VPS0i8SQ"
      },
      "source": [
        "import util\n",
        "\n",
        "X1, y1, X2, y2 = util.mnist_init('small')\n"
      ],
      "execution_count": null,
      "outputs": []
    },
    {
      "cell_type": "code",
      "metadata": {
        "id": "RxbbagtaioIx"
      },
      "source": [
        "from sklearn.svm import SVC\n",
        "\n",
        "\n",
        "class SklearnSVC:\n",
        "    def __init__(self, X_train, y_train, kernel):\n",
        "        self.clf = SVC(kernel=kernel).fit(X_train, y_train)\n",
        "\n",
        "    def score(self, X_test, y_test):\n",
        "        return self.clf.score(X_test, y_test)\n",
        "\n",
        "    def predict(self, X_test):\n",
        "        return self.clf.predict(X_test)\n",
        "    "
      ],
      "execution_count": null,
      "outputs": []
    },
    {
      "cell_type": "code",
      "metadata": {
        "colab": {
          "base_uri": "https://localhost:8080/"
        },
        "id": "oQMFApEZjDTH",
        "outputId": "82178a8e-ad7e-49a2-84a5-bfc6f951448e"
      },
      "source": [
        "clf = SklearnSVC(X1, y1, 'rbf')\n",
        "print(clf.score(X2, y2))\n",
        "\n",
        "y_pred = clf.predict(X2)\n",
        "print(util.f1_score(y2, y_pred))\n",
        "print(util.recall_score(y2, y_pred))"
      ],
      "execution_count": null,
      "outputs": [
        {
          "output_type": "stream",
          "text": [
            "0.9957127545551983\n",
            "0.9957044594432832\n",
            "0.9957044594432832\n"
          ],
          "name": "stdout"
        }
      ]
    },
    {
      "cell_type": "code",
      "metadata": {
        "colab": {
          "base_uri": "https://localhost:8080/"
        },
        "id": "_OJc6DGXjqH9",
        "outputId": "1060a8b2-3d44-474c-a6bd-b5c9c3c04aa5"
      },
      "source": [
        "clf = SklearnSVC(X1, y1, 'poly')\n",
        "print(clf.score(X2, y2))\n",
        "\n",
        "y_pred = clf.predict(X2)\n",
        "print(util.f1_score(y2, y_pred))\n",
        "print(util.recall_score(y2, y_pred))"
      ],
      "execution_count": null,
      "outputs": [
        {
          "output_type": "stream",
          "text": [
            "0.9919614147909968\n",
            "0.9919454790368071\n",
            "0.9919222659091537\n"
          ],
          "name": "stdout"
        }
      ]
    },
    {
      "cell_type": "code",
      "metadata": {
        "id": "u37JPHqjjyd4"
      },
      "source": [
        "X1, y1, X2, y2 = util.mnist_init('complete')\n"
      ],
      "execution_count": null,
      "outputs": []
    },
    {
      "cell_type": "code",
      "metadata": {
        "colab": {
          "base_uri": "https://localhost:8080/"
        },
        "id": "fwbn09o7j8Xw",
        "outputId": "a5d478d0-6106-43e8-bb87-94d9319a9083"
      },
      "source": [
        "clf = SklearnSVC(X1, y1, 'rbf')\n",
        "print(clf.score(X2, y2))\n",
        "\n",
        "y_pred = clf.predict(X2)\n",
        "print(util.f1_score(y2, y_pred))\n",
        "print(util.recall_score(y2, y_pred))"
      ],
      "execution_count": null,
      "outputs": [
        {
          "output_type": "stream",
          "text": [
            "0.9792\n",
            "0.9791298259748042\n",
            "0.9790919842945065\n"
          ],
          "name": "stdout"
        }
      ]
    },
    {
      "cell_type": "code",
      "metadata": {
        "colab": {
          "background_save": true
        },
        "id": "-Vvc1i4jj-eC",
        "outputId": "5bf5d2ed-b732-4e12-b46e-163886646bf0"
      },
      "source": [
        "clf = SklearnSVC(X1, y1, 'poly')\n",
        "print(clf.score(X2, y2))\n",
        "\n",
        "y_pred = clf.predict(X2)\n",
        "print(util.f1_score(y2, y_pred))\n",
        "print(util.recall_score(y2, y_pred))"
      ],
      "execution_count": null,
      "outputs": [
        {
          "output_type": "stream",
          "text": [
            "0.9771\n",
            "0.9770040605295229\n",
            "0.9769380249358539\n"
          ],
          "name": "stdout"
        }
      ]
    }
  ]
}