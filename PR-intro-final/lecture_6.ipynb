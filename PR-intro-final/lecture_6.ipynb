{
  "nbformat": 4,
  "nbformat_minor": 0,
  "metadata": {
    "colab": {
      "name": "lecture-6.ipynb",
      "provenance": [],
      "collapsed_sections": []
    },
    "kernelspec": {
      "name": "python3",
      "display_name": "Python 3"
    },
    "language_info": {
      "name": "python"
    }
  },
  "cells": [
    {
      "cell_type": "code",
      "metadata": {
        "colab": {
          "base_uri": "https://localhost:8080/"
        },
        "id": "i0G56EaekCOc",
        "outputId": "04a266e9-4d2c-4dec-b196-cf80555b20d0"
      },
      "source": [
        "!pip install wget"
      ],
      "execution_count": null,
      "outputs": [
        {
          "output_type": "stream",
          "text": [
            "Requirement already satisfied: wget in /usr/local/lib/python3.7/dist-packages (3.2)\n"
          ],
          "name": "stdout"
        }
      ]
    },
    {
      "cell_type": "code",
      "metadata": {
        "id": "9i3zkCH9ki_c"
      },
      "source": [
        "import numpy as np\n",
        "import collections\n",
        "\n",
        "\n",
        "class kNNClassifier(object):\n",
        "\n",
        "    def __init__(self, k):\n",
        "        self.k = k\n",
        "\n",
        "    def fit(self, dataset, labels):\n",
        "        self.dataset = dataset\n",
        "        self.labels = labels\n",
        "\n",
        "    def predict(self, testset):\n",
        "        result = []\n",
        "        for test_data in testset:\n",
        "            dist = np.array([np.linalg.norm(test_data-v) for v in self.dataset])\n",
        "            dist_index = np.argsort(dist)[:self.k]\n",
        "            label_dict = collections.Counter([self.labels[i] for i in dist_index])\n",
        "            result.append(sorted(label_dict.items(), key=lambda x: x[1], reverse=True)[0][0])\n",
        "        return result\n",
        "\n",
        "    def score(self, X_test, y_test):\n",
        "        y_predict = self.predict(X_test)\n",
        "        return sum(y_predict[i] == y_test[i] for i in range(len(y_test)))/len(y_test)"
      ],
      "execution_count": null,
      "outputs": []
    },
    {
      "cell_type": "code",
      "metadata": {
        "colab": {
          "base_uri": "https://localhost:8080/"
        },
        "id": "IB1-Q_cslYB1",
        "outputId": "bdd07d3b-817b-4136-d8eb-a0a20b78fed9"
      },
      "source": [
        "import util\n",
        "\n",
        "\n",
        "X1, y1, X2, y2 = util.mnist_init('small')\n",
        "\n",
        "clf = kNNClassifier(3)\n",
        "clf.fit(X1, y1)\n",
        "print(clf.score(X2, y2))\n",
        "\n",
        "y_pred = clf.predict(X2)\n",
        "print(util.f1_score(y2, y_pred))\n",
        "print(util.recall_score(y2, y_pred))"
      ],
      "execution_count": null,
      "outputs": [
        {
          "output_type": "stream",
          "text": [
            "0.8510182207931404\n",
            "0.8462682834020671\n",
            "0.8449254610915184\n"
          ],
          "name": "stdout"
        }
      ]
    },
    {
      "cell_type": "code",
      "metadata": {
        "colab": {
          "base_uri": "https://localhost:8080/"
        },
        "id": "_OYt2Kyvmtxh",
        "outputId": "a12af224-c43c-44e3-a870-350f68a0aae1"
      },
      "source": [
        "from sklearn.neighbors import KNeighborsClassifier\n",
        "\n",
        "\n",
        "X1, y1, X2, y2 = util.mnist_init('complete')\n",
        "\n",
        "clf = KNeighborsClassifier(n_neighbors=3)\n",
        "clf.fit(X1, y1)\n",
        "print(clf.score(X2, y2))\n",
        "\n",
        "y_pred = clf.predict(X2)\n",
        "print(util.f1_score(y2, y_pred))\n",
        "print(util.recall_score(y2, y_pred))"
      ],
      "execution_count": null,
      "outputs": [
        {
          "output_type": "stream",
          "text": [
            "0.9705\n",
            "0.9703749561556656\n",
            "0.9701144344783679\n"
          ],
          "name": "stdout"
        }
      ]
    },
    {
      "cell_type": "code",
      "metadata": {
        "id": "ZEvv1THum96G"
      },
      "source": [
        "class KMeans:\n",
        "    \n",
        "    def __init__(self, k):\n",
        "        self.k = k\n",
        "        \n",
        "    def fit(self, dataset):\n",
        "        self.centroids = dataset[np.random.choice(dataset.shape[0], self.k, replace=False)]\n",
        "        self.intial_centroids = self.centroids\n",
        "        self.prev_label, self.labels = [None for _ in range(dataset.shape[0])], [None for _ in range(dataset.shape[0])]\n",
        "\n",
        "        while not np.all(self.labels == self.prev_label) :\n",
        "            self.prev_label = self.labels\n",
        "            self.labels = self.predict(dataset)\n",
        "            self.update_centroid(dataset)\n",
        "\n",
        "        \n",
        "    def predict(self, dataset):\n",
        "        return np.apply_along_axis(self.compute_label, 1, dataset)\n",
        "\n",
        "    def compute_label(self, x):\n",
        "        return np.argmin(np.sqrt(np.sum((self.centroids - x)**2, axis=1)))\n",
        "\n",
        "    def update_centroid(self, dataset):\n",
        "        self.centroids = np.array([np.mean(dataset[self.labels == k], axis=0)  for k in range(self.k)])\n",
        "\n",
        "    def score(self, test_set, test_labels):\n",
        "        pred_labels = self.predict(test_set)\n",
        "        labels_list = [[] for _ in range(self.k)]\n",
        "        for i in range(len(pred_labels)):\n",
        "            labels_list[pred_labels[i]].append(test_labels[i])\n",
        "        actl_labels = [np.argmax(np.bincount(x)) for x in labels_list]\n",
        "        occurs = [sum([actl_labels[i] == label for label in labels_list[i]]) for i in range(len(labels_list))] \n",
        "        return ([occurs[i]/len(labels_list[i]) for i in range(len(occurs))], sum(occurs)/sum([len(labels) for labels in labels_list]))\n",
        "        \n",
        "\n",
        "\n",
        "        \n"
      ],
      "execution_count": null,
      "outputs": []
    },
    {
      "cell_type": "code",
      "metadata": {
        "colab": {
          "base_uri": "https://localhost:8080/"
        },
        "id": "It7zRXfyG0wP",
        "outputId": "4bfdbd54-8bed-4dc7-aaeb-ff1f8e8b6aa6"
      },
      "source": [
        "X1, y1, X2, y2 = util.mnist_init('small', transformed=False)\n",
        "clf = KMeans(2)\n",
        "clf.fit(X1)\n",
        "\n",
        "print(clf.score(X1, y1))\n",
        "print(clf.score(X2, y2))"
      ],
      "execution_count": null,
      "outputs": [
        {
          "output_type": "stream",
          "text": [
            "([0.6032045240339302, 0.5103319949074527], 0.5190738112136267)\n",
            "([0.5843373493975904, 0.5158823529411765], 0.5219721329046088)\n"
          ],
          "name": "stdout"
        }
      ]
    },
    {
      "cell_type": "code",
      "metadata": {
        "colab": {
          "base_uri": "https://localhost:8080/"
        },
        "id": "EAU5Gn56G1In",
        "outputId": "0c503557-bc04-405b-9da7-5cf8fc6eb3d9"
      },
      "source": [
        "X1, y1, X2, y2 = util.mnist_init('complete')\n",
        "clf = KMeans(10)\n",
        "clf.fit(X1)\n",
        "\n",
        "print(clf.score(X1, y1))\n",
        "print(clf.score(X2, y2))"
      ],
      "execution_count": null,
      "outputs": [
        {
          "output_type": "stream",
          "text": [
            "([0.7058823529411765, 0.4087418783225044, 0.5, 0.4725274725274725, 0.398406374501992, 0.1409514220991694, 0.36394214598049107, 0.38768369489153254, 0.3560804899387577, 0.4525652049297793], 0.19401666666666667)\n",
            "([1.0, 0.4412811387900356, 1.0, 0.55, 0.30303030303030304, 0.14258793969849246, 0.42299794661190965, 0.3625, 0.41935483870967744, 0.44280442804428044], 0.1998)\n"
          ],
          "name": "stdout"
        }
      ]
    }
  ]
}